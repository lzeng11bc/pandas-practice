{
  "nbformat": 4,
  "nbformat_minor": 0,
  "metadata": {
    "colab": {
      "name": "AB_Test.ipynb",
      "provenance": [],
      "collapsed_sections": [],
      "authorship_tag": "ABX9TyOTCKr/vkMRSHh6muv9NRT2",
      "include_colab_link": true
    },
    "kernelspec": {
      "name": "python3",
      "display_name": "Python 3"
    },
    "language_info": {
      "name": "python"
    }
  },
  "cells": [
    {
      "cell_type": "markdown",
      "metadata": {
        "id": "view-in-github",
        "colab_type": "text"
      },
      "source": [
        "<a href=\"https://colab.research.google.com/github/lzeng11bc/pandas-practice/blob/master/AB_Test_Project.ipynb\" target=\"_parent\"><img src=\"https://colab.research.google.com/assets/colab-badge.svg\" alt=\"Open In Colab\"/></a>"
      ]
    },
    {
      "cell_type": "markdown",
      "metadata": {
        "id": "matODnfAqyLV"
      },
      "source": [
        "# Case Study"
      ]
    },
    {
      "cell_type": "markdown",
      "metadata": {
        "id": "CvNz6KcXpNsk"
      },
      "source": [
        "## Objective of the Case Study\n",
        "* Study the effect different vouchers can have on the gmv for shops in various size"
      ]
    },
    {
      "cell_type": "markdown",
      "metadata": {
        "id": "EkCjVtDXpiDx"
      },
      "source": [
        "## Methodology\n",
        "* Divide the shops in to three groups based on the gmv size\n",
        "* During 2021-05-25 to 2021-05-31, conduct A/B test in each group by randomly giving vouchers to orders with gmv that match the designated gmv range\n",
        "* Test the effectiveness of different combinations of vouchers in each group\n",
        "* Test the effectiveness of different vouchers in each group"
      ]
    },
    {
      "cell_type": "code",
      "metadata": {
        "id": "e-lmpuzSBHhn"
      },
      "source": [
        "import seaborn as sns"
      ],
      "execution_count": null,
      "outputs": []
    },
    {
      "cell_type": "code",
      "metadata": {
        "id": "YzvFrei7O6MX"
      },
      "source": [
        "import pandas as pd\n",
        "import numpy as np"
      ],
      "execution_count": null,
      "outputs": []
    },
    {
      "cell_type": "markdown",
      "metadata": {
        "id": "rf_irrh1DnK_"
      },
      "source": [
        "## Read Data"
      ]
    },
    {
      "cell_type": "code",
      "metadata": {
        "id": "MI04qsEjc6hC"
      },
      "source": [
        "RAW_DATA = pd.read_excel('case_study.xlsx', 'Raw_Data')\n",
        "SHOP_LIST = pd.read_excel('case_study.xlsx', 'Shop_List')"
      ],
      "execution_count": null,
      "outputs": []
    },
    {
      "cell_type": "code",
      "metadata": {
        "colab": {
          "base_uri": "https://localhost:8080/"
        },
        "id": "I9FpNoTXdN0V",
        "outputId": "afca5d31-d4cd-4c02-e6bb-6364bdf8dbcb"
      },
      "source": [
        "RAW_DATA.shape"
      ],
      "execution_count": null,
      "outputs": [
        {
          "output_type": "execute_result",
          "data": {
            "text/plain": [
              "(128151, 8)"
            ]
          },
          "metadata": {},
          "execution_count": 7
        }
      ]
    },
    {
      "cell_type": "code",
      "metadata": {
        "colab": {
          "base_uri": "https://localhost:8080/"
        },
        "id": "G3ynsMs-dSit",
        "outputId": "c19b5db7-9df9-44cb-d1b2-d54bd85be67b"
      },
      "source": [
        "SHOP_LIST.shape"
      ],
      "execution_count": null,
      "outputs": [
        {
          "output_type": "execute_result",
          "data": {
            "text/plain": [
              "(23204, 2)"
            ]
          },
          "metadata": {},
          "execution_count": 8
        }
      ]
    },
    {
      "cell_type": "code",
      "metadata": {
        "colab": {
          "base_uri": "https://localhost:8080/",
          "height": 221
        },
        "id": "ALCw0ZvbdVLD",
        "outputId": "5c7683bf-0d52-430e-fc95-4d8abebd62f7"
      },
      "source": [
        "RAW_DATA.head(5)"
      ],
      "execution_count": null,
      "outputs": [
        {
          "output_type": "execute_result",
          "data": {
            "text/html": [
              "<div>\n",
              "<style scoped>\n",
              "    .dataframe tbody tr th:only-of-type {\n",
              "        vertical-align: middle;\n",
              "    }\n",
              "\n",
              "    .dataframe tbody tr th {\n",
              "        vertical-align: top;\n",
              "    }\n",
              "\n",
              "    .dataframe thead th {\n",
              "        text-align: right;\n",
              "    }\n",
              "</style>\n",
              "<table border=\"1\" class=\"dataframe\">\n",
              "  <thead>\n",
              "    <tr style=\"text-align: right;\">\n",
              "      <th></th>\n",
              "      <th>shop_id</th>\n",
              "      <th>order_id</th>\n",
              "      <th>order_create_date</th>\n",
              "      <th>gmv_usd</th>\n",
              "      <th>shop_voucher_id</th>\n",
              "      <th>shop_voucher_name</th>\n",
              "      <th>shop_voucher_coin_discount_by_seller</th>\n",
              "      <th>shop_voucher_cash_discount_by_seller</th>\n",
              "    </tr>\n",
              "  </thead>\n",
              "  <tbody>\n",
              "    <tr>\n",
              "      <th>0</th>\n",
              "      <td>3078763600</td>\n",
              "      <td>821855235375020</td>\n",
              "      <td>2021-05-15</td>\n",
              "      <td>93.318905</td>\n",
              "      <td>NaN</td>\n",
              "      <td>NaN</td>\n",
              "      <td>0.0</td>\n",
              "      <td>0.0</td>\n",
              "    </tr>\n",
              "    <tr>\n",
              "      <th>1</th>\n",
              "      <td>2948456434</td>\n",
              "      <td>822543077817373</td>\n",
              "      <td>2021-05-15</td>\n",
              "      <td>123.554179</td>\n",
              "      <td>NaN</td>\n",
              "      <td>NaN</td>\n",
              "      <td>0.0</td>\n",
              "      <td>0.0</td>\n",
              "    </tr>\n",
              "    <tr>\n",
              "      <th>2</th>\n",
              "      <td>2948456434</td>\n",
              "      <td>822659290005069</td>\n",
              "      <td>2021-05-15</td>\n",
              "      <td>142.473856</td>\n",
              "      <td>NaN</td>\n",
              "      <td>NaN</td>\n",
              "      <td>0.0</td>\n",
              "      <td>0.0</td>\n",
              "    </tr>\n",
              "    <tr>\n",
              "      <th>3</th>\n",
              "      <td>3319207166</td>\n",
              "      <td>822236220327478</td>\n",
              "      <td>2021-05-15</td>\n",
              "      <td>143.922253</td>\n",
              "      <td>NaN</td>\n",
              "      <td>NaN</td>\n",
              "      <td>0.0</td>\n",
              "      <td>0.0</td>\n",
              "    </tr>\n",
              "    <tr>\n",
              "      <th>4</th>\n",
              "      <td>2948223344</td>\n",
              "      <td>821784681821598</td>\n",
              "      <td>2021-05-15</td>\n",
              "      <td>153.970502</td>\n",
              "      <td>NaN</td>\n",
              "      <td>NaN</td>\n",
              "      <td>0.0</td>\n",
              "      <td>0.0</td>\n",
              "    </tr>\n",
              "  </tbody>\n",
              "</table>\n",
              "</div>"
            ],
            "text/plain": [
              "      shop_id  ...  shop_voucher_cash_discount_by_seller\n",
              "0  3078763600  ...                                   0.0\n",
              "1  2948456434  ...                                   0.0\n",
              "2  2948456434  ...                                   0.0\n",
              "3  3319207166  ...                                   0.0\n",
              "4  2948223344  ...                                   0.0\n",
              "\n",
              "[5 rows x 8 columns]"
            ]
          },
          "metadata": {},
          "execution_count": 9
        }
      ]
    },
    {
      "cell_type": "code",
      "metadata": {
        "colab": {
          "base_uri": "https://localhost:8080/",
          "height": 221
        },
        "id": "HGKdJ_ucdXRc",
        "outputId": "8d1a4c33-d421-4445-c0d5-9b956f805c29"
      },
      "source": [
        "SHOP_LIST.head(5)"
      ],
      "execution_count": null,
      "outputs": [
        {
          "output_type": "execute_result",
          "data": {
            "text/html": [
              "<div>\n",
              "<style scoped>\n",
              "    .dataframe tbody tr th:only-of-type {\n",
              "        vertical-align: middle;\n",
              "    }\n",
              "\n",
              "    .dataframe tbody tr th {\n",
              "        vertical-align: top;\n",
              "    }\n",
              "\n",
              "    .dataframe thead th {\n",
              "        text-align: right;\n",
              "    }\n",
              "</style>\n",
              "<table border=\"1\" class=\"dataframe\">\n",
              "  <thead>\n",
              "    <tr style=\"text-align: right;\">\n",
              "      <th></th>\n",
              "      <th>shopid</th>\n",
              "      <th>GROUP</th>\n",
              "    </tr>\n",
              "  </thead>\n",
              "  <tbody>\n",
              "    <tr>\n",
              "      <th>0</th>\n",
              "      <td>2948219142</td>\n",
              "      <td>1A</td>\n",
              "    </tr>\n",
              "    <tr>\n",
              "      <th>1</th>\n",
              "      <td>2239563975</td>\n",
              "      <td>1A</td>\n",
              "    </tr>\n",
              "    <tr>\n",
              "      <th>2</th>\n",
              "      <td>3442623844</td>\n",
              "      <td>1A</td>\n",
              "    </tr>\n",
              "    <tr>\n",
              "      <th>3</th>\n",
              "      <td>2154578184</td>\n",
              "      <td>1A</td>\n",
              "    </tr>\n",
              "    <tr>\n",
              "      <th>4</th>\n",
              "      <td>2192526336</td>\n",
              "      <td>1A</td>\n",
              "    </tr>\n",
              "  </tbody>\n",
              "</table>\n",
              "</div>"
            ],
            "text/plain": [
              "       shopid GROUP\n",
              "0  2948219142    1A\n",
              "1  2239563975    1A\n",
              "2  3442623844    1A\n",
              "3  2154578184    1A\n",
              "4  2192526336    1A"
            ]
          },
          "metadata": {},
          "execution_count": 10
        }
      ]
    },
    {
      "cell_type": "markdown",
      "metadata": {
        "id": "XP3TPo8pDsXN"
      },
      "source": [
        "## Visualize Group Size"
      ]
    },
    {
      "cell_type": "code",
      "metadata": {
        "colab": {
          "base_uri": "https://localhost:8080/"
        },
        "id": "H7xK_r22ddNp",
        "outputId": "375798a9-baa3-4fcb-c48a-697ecaba1071"
      },
      "source": [
        "SHOP_LIST.GROUP.value_counts().sort_values()"
      ],
      "execution_count": null,
      "outputs": [
        {
          "output_type": "execute_result",
          "data": {
            "text/plain": [
              "1B    2702\n",
              "1A    2703\n",
              "3B    3855\n",
              "3A    3855\n",
              "2A    5044\n",
              "2B    5045\n",
              "Name: GROUP, dtype: int64"
            ]
          },
          "metadata": {},
          "execution_count": 11
        }
      ]
    },
    {
      "cell_type": "code",
      "metadata": {
        "colab": {
          "base_uri": "https://localhost:8080/",
          "height": 320
        },
        "id": "sWTIezHRdt5C",
        "outputId": "0cc5f7a4-9ebc-4a55-9b4a-246ebd5f0f27"
      },
      "source": [
        "import matplotlib.pyplot as plt\n",
        "\n",
        "SHOP_LIST.GROUP.value_counts().sort_values().plot(kind='bar', color='deepskyblue')\n",
        "plt.xlabel('Group')\n",
        "plt.ylabel('Size')\n",
        "plt.title('Group Size', weight='bold')\n",
        "plt.show()"
      ],
      "execution_count": null,
      "outputs": [
        {
          "output_type": "display_data",
          "data": {
            "image/png": "[encoded data removed]",
            "text/plain": [
              "<Figure size 432x288 with 1 Axes>"
            ]
          },
          "metadata": {
            "needs_background": "light"
          }
        }
      ]
    },
    {
      "cell_type": "markdown",
      "metadata": {
        "id": "KkfbKOmYEKpX"
      },
      "source": [
        "## Merge 2 WorkSheets"
      ]
    },
    {
      "cell_type": "code",
      "metadata": {
        "id": "ne-9WZptqQMM"
      },
      "source": [
        "RAW_DATA.rename(columns={'shop_id':'shopid'}, inplace=True)"
      ],
      "execution_count": null,
      "outputs": []
    },
    {
      "cell_type": "code",
      "metadata": {
        "id": "Fm-u5f3LnUMj"
      },
      "source": [
        "MERGE = RAW_DATA.merge(SHOP_LIST, on='shopid')"
      ],
      "execution_count": null,
      "outputs": []
    },
    {
      "cell_type": "code",
      "metadata": {
        "colab": {
          "base_uri": "https://localhost:8080/",
          "height": 221
        },
        "id": "LOexCSZvtvdD",
        "outputId": "ca92518b-aa7d-4553-b29b-7ef2c41f3a99"
      },
      "source": [
        "MERGE.head()"
      ],
      "execution_count": null,
      "outputs": [
        {
          "output_type": "execute_result",
          "data": {
            "text/html": [
              "<div>\n",
              "<style scoped>\n",
              "    .dataframe tbody tr th:only-of-type {\n",
              "        vertical-align: middle;\n",
              "    }\n",
              "\n",
              "    .dataframe tbody tr th {\n",
              "        vertical-align: top;\n",
              "    }\n",
              "\n",
              "    .dataframe thead th {\n",
              "        text-align: right;\n",
              "    }\n",
              "</style>\n",
              "<table border=\"1\" class=\"dataframe\">\n",
              "  <thead>\n",
              "    <tr style=\"text-align: right;\">\n",
              "      <th></th>\n",
              "      <th>shopid</th>\n",
              "      <th>order_id</th>\n",
              "      <th>order_create_date</th>\n",
              "      <th>gmv_usd</th>\n",
              "      <th>shop_voucher_id</th>\n",
              "      <th>shop_voucher_name</th>\n",
              "      <th>shop_voucher_coin_discount_by_seller</th>\n",
              "      <th>shop_voucher_cash_discount_by_seller</th>\n",
              "      <th>GROUP</th>\n",
              "    </tr>\n",
              "  </thead>\n",
              "  <tbody>\n",
              "    <tr>\n",
              "      <th>0</th>\n",
              "      <td>3078763600</td>\n",
              "      <td>821855235375020</td>\n",
              "      <td>2021-05-15</td>\n",
              "      <td>93.318905</td>\n",
              "      <td>NaN</td>\n",
              "      <td>NaN</td>\n",
              "      <td>0.0</td>\n",
              "      <td>0.0</td>\n",
              "      <td>2A</td>\n",
              "    </tr>\n",
              "    <tr>\n",
              "      <th>1</th>\n",
              "      <td>3078763600</td>\n",
              "      <td>822627181098899</td>\n",
              "      <td>2021-05-15</td>\n",
              "      <td>273.463202</td>\n",
              "      <td>NaN</td>\n",
              "      <td>NaN</td>\n",
              "      <td>0.0</td>\n",
              "      <td>0.0</td>\n",
              "      <td>2A</td>\n",
              "    </tr>\n",
              "    <tr>\n",
              "      <th>2</th>\n",
              "      <td>3078763600</td>\n",
              "      <td>824071415529747</td>\n",
              "      <td>2021-05-17</td>\n",
              "      <td>93.318905</td>\n",
              "      <td>NaN</td>\n",
              "      <td>NaN</td>\n",
              "      <td>0.0</td>\n",
              "      <td>0.0</td>\n",
              "      <td>2A</td>\n",
              "    </tr>\n",
              "    <tr>\n",
              "      <th>3</th>\n",
              "      <td>2948456434</td>\n",
              "      <td>822543077817373</td>\n",
              "      <td>2021-05-15</td>\n",
              "      <td>123.554179</td>\n",
              "      <td>NaN</td>\n",
              "      <td>NaN</td>\n",
              "      <td>0.0</td>\n",
              "      <td>0.0</td>\n",
              "      <td>2B</td>\n",
              "    </tr>\n",
              "    <tr>\n",
              "      <th>4</th>\n",
              "      <td>2948456434</td>\n",
              "      <td>822659290005069</td>\n",
              "      <td>2021-05-15</td>\n",
              "      <td>142.473856</td>\n",
              "      <td>NaN</td>\n",
              "      <td>NaN</td>\n",
              "      <td>0.0</td>\n",
              "      <td>0.0</td>\n",
              "      <td>2B</td>\n",
              "    </tr>\n",
              "  </tbody>\n",
              "</table>\n",
              "</div>"
            ],
            "text/plain": [
              "       shopid         order_id  ... shop_voucher_cash_discount_by_seller  GROUP\n",
              "0  3078763600  821855235375020  ...                                  0.0     2A\n",
              "1  3078763600  822627181098899  ...                                  0.0     2A\n",
              "2  3078763600  824071415529747  ...                                  0.0     2A\n",
              "3  2948456434  822543077817373  ...                                  0.0     2B\n",
              "4  2948456434  822659290005069  ...                                  0.0     2B\n",
              "\n",
              "[5 rows x 9 columns]"
            ]
          },
          "metadata": {},
          "execution_count": 16
        }
      ]
    },
    {
      "cell_type": "code",
      "metadata": {
        "colab": {
          "base_uri": "https://localhost:8080/"
        },
        "id": "PXl-uGK1Urvi",
        "outputId": "73c1cd98-4e90-4f8a-f5dd-ab6bbbec86e2"
      },
      "source": [
        "MERGE.info()"
      ],
      "execution_count": null,
      "outputs": [
        {
          "output_type": "stream",
          "text": [
            "<class 'pandas.core.frame.DataFrame'>\n",
            "Int64Index: 115050 entries, 0 to 115049\n",
            "Data columns (total 9 columns):\n",
            " #   Column                                Non-Null Count   Dtype         \n",
            "---  ------                                --------------   -----         \n",
            " 0   shopid                                115050 non-null  int64         \n",
            " 1   order_id                              115050 non-null  int64         \n",
            " 2   order_create_date                     115050 non-null  datetime64[ns]\n",
            " 3   gmv_usd                               115050 non-null  float64       \n",
            " 4   shop_voucher_id                       35099 non-null   float64       \n",
            " 5   shop_voucher_name                     34646 non-null   object        \n",
            " 6   shop_voucher_coin_discount_by_seller  115050 non-null  float64       \n",
            " 7   shop_voucher_cash_discount_by_seller  115050 non-null  float64       \n",
            " 8   GROUP                                 115050 non-null  object        \n",
            "dtypes: datetime64[ns](1), float64(4), int64(2), object(2)\n",
            "memory usage: 8.8+ MB\n"
          ],
          "name": "stdout"
        }
      ]
    },
    {
      "cell_type": "markdown",
      "metadata": {
        "id": "iEpa1posFDV2"
      },
      "source": [
        "## Scope of the Data"
      ]
    },
    {
      "cell_type": "code",
      "metadata": {
        "colab": {
          "base_uri": "https://localhost:8080/"
        },
        "id": "zw3BRD8RUuNq",
        "outputId": "b0146834-ca26-4323-a77c-227b41c60493"
      },
      "source": [
        "MERGE.order_create_date.describe()"
      ],
      "execution_count": null,
      "outputs": [
        {
          "output_type": "stream",
          "text": [
            "/usr/local/lib/python3.7/dist-packages/ipykernel_launcher.py:1: FutureWarning: Treating datetime data as categorical rather than numeric in `.describe` is deprecated and will be removed in a future version of pandas. Specify `datetime_is_numeric=True` to silence this warning and adopt the future behavior now.\n",
            "  \"\"\"Entry point for launching an IPython kernel.\n"
          ],
          "name": "stderr"
        },
        {
          "output_type": "execute_result",
          "data": {
            "text/plain": [
              "count                  115050\n",
              "unique                     17\n",
              "top       2021-05-30 00:00:00\n",
              "freq                     8804\n",
              "first     2021-05-15 00:00:00\n",
              "last      2021-05-31 00:00:00\n",
              "Name: order_create_date, dtype: object"
            ]
          },
          "metadata": {},
          "execution_count": 18
        }
      ]
    },
    {
      "cell_type": "code",
      "metadata": {
        "id": "FlY5rb4fsb5E"
      },
      "source": [
        "MERGE.set_index(pd.to_datetime(MERGE.order_create_date), inplace=True)"
      ],
      "execution_count": null,
      "outputs": []
    },
    {
      "cell_type": "markdown",
      "metadata": {
        "id": "VeiLVHwKp54-"
      },
      "source": [
        "## Slice Data Based on Date"
      ]
    },
    {
      "cell_type": "markdown",
      "metadata": {
        "id": "LzRkIV6VFh53"
      },
      "source": [
        "Only Started to Test Vouchers From 2021-05-25"
      ]
    },
    {
      "cell_type": "code",
      "metadata": {
        "id": "VJvSu6TctBin"
      },
      "source": [
        "MERGE = MERGE.loc['2021-05-25' : '2021-05-31', :]"
      ],
      "execution_count": null,
      "outputs": []
    },
    {
      "cell_type": "code",
      "metadata": {
        "colab": {
          "base_uri": "https://localhost:8080/",
          "height": 252
        },
        "id": "ViG4om5sFv6-",
        "outputId": "ae038e9c-2240-411b-f9d9-ef5fd8421ec2"
      },
      "source": [
        "MERGE.head()"
      ],
      "execution_count": null,
      "outputs": [
        {
          "output_type": "execute_result",
          "data": {
            "text/html": [
              "<div>\n",
              "<style scoped>\n",
              "    .dataframe tbody tr th:only-of-type {\n",
              "        vertical-align: middle;\n",
              "    }\n",
              "\n",
              "    .dataframe tbody tr th {\n",
              "        vertical-align: top;\n",
              "    }\n",
              "\n",
              "    .dataframe thead th {\n",
              "        text-align: right;\n",
              "    }\n",
              "</style>\n",
              "<table border=\"1\" class=\"dataframe\">\n",
              "  <thead>\n",
              "    <tr style=\"text-align: right;\">\n",
              "      <th></th>\n",
              "      <th>shopid</th>\n",
              "      <th>order_id</th>\n",
              "      <th>order_create_date</th>\n",
              "      <th>gmv_usd</th>\n",
              "      <th>shop_voucher_id</th>\n",
              "      <th>shop_voucher_name</th>\n",
              "      <th>shop_voucher_coin_discount_by_seller</th>\n",
              "      <th>shop_voucher_cash_discount_by_seller</th>\n",
              "      <th>GROUP</th>\n",
              "    </tr>\n",
              "    <tr>\n",
              "      <th>order_create_date</th>\n",
              "      <th></th>\n",
              "      <th></th>\n",
              "      <th></th>\n",
              "      <th></th>\n",
              "      <th></th>\n",
              "      <th></th>\n",
              "      <th></th>\n",
              "      <th></th>\n",
              "      <th></th>\n",
              "    </tr>\n",
              "  </thead>\n",
              "  <tbody>\n",
              "    <tr>\n",
              "      <th>2021-05-25</th>\n",
              "      <td>2948456434</td>\n",
              "      <td>832157541967741</td>\n",
              "      <td>2021-05-25</td>\n",
              "      <td>259.341337</td>\n",
              "      <td>885465306.0</td>\n",
              "      <td>TESTSV-20%-G2B-T1</td>\n",
              "      <td>24.0</td>\n",
              "      <td>0.0</td>\n",
              "      <td>2B</td>\n",
              "    </tr>\n",
              "    <tr>\n",
              "      <th>2021-05-25</th>\n",
              "      <td>2948456434</td>\n",
              "      <td>832209645827054</td>\n",
              "      <td>2021-05-25</td>\n",
              "      <td>259.341337</td>\n",
              "      <td>NaN</td>\n",
              "      <td>NaN</td>\n",
              "      <td>0.0</td>\n",
              "      <td>0.0</td>\n",
              "      <td>2B</td>\n",
              "    </tr>\n",
              "    <tr>\n",
              "      <th>2021-05-25</th>\n",
              "      <td>2948456434</td>\n",
              "      <td>832227302241412</td>\n",
              "      <td>2021-05-25</td>\n",
              "      <td>177.869042</td>\n",
              "      <td>885465306.0</td>\n",
              "      <td>TESTSV-20%-G2B-T1</td>\n",
              "      <td>24.0</td>\n",
              "      <td>0.0</td>\n",
              "      <td>2B</td>\n",
              "    </tr>\n",
              "    <tr>\n",
              "      <th>2021-05-25</th>\n",
              "      <td>2948456434</td>\n",
              "      <td>832219436580015</td>\n",
              "      <td>2021-05-25</td>\n",
              "      <td>201.858107</td>\n",
              "      <td>885465306.0</td>\n",
              "      <td>TESTSV-20%-G2B-T1</td>\n",
              "      <td>24.0</td>\n",
              "      <td>0.0</td>\n",
              "      <td>2B</td>\n",
              "    </tr>\n",
              "    <tr>\n",
              "      <th>2021-05-25</th>\n",
              "      <td>2948456434</td>\n",
              "      <td>831969628942562</td>\n",
              "      <td>2021-05-25</td>\n",
              "      <td>116.131148</td>\n",
              "      <td>NaN</td>\n",
              "      <td>NaN</td>\n",
              "      <td>0.0</td>\n",
              "      <td>0.0</td>\n",
              "      <td>2B</td>\n",
              "    </tr>\n",
              "  </tbody>\n",
              "</table>\n",
              "</div>"
            ],
            "text/plain": [
              "                       shopid  ...  GROUP\n",
              "order_create_date              ...       \n",
              "2021-05-25         2948456434  ...     2B\n",
              "2021-05-25         2948456434  ...     2B\n",
              "2021-05-25         2948456434  ...     2B\n",
              "2021-05-25         2948456434  ...     2B\n",
              "2021-05-25         2948456434  ...     2B\n",
              "\n",
              "[5 rows x 9 columns]"
            ]
          },
          "metadata": {},
          "execution_count": 21
        }
      ]
    },
    {
      "cell_type": "code",
      "metadata": {
        "colab": {
          "base_uri": "https://localhost:8080/"
        },
        "id": "rNdKDF6YxwXg",
        "outputId": "20f2640f-97cd-4557-dd96-155b73aafddf"
      },
      "source": [
        "MERGE.order_create_date.describe()"
      ],
      "execution_count": null,
      "outputs": [
        {
          "output_type": "stream",
          "text": [
            "/usr/local/lib/python3.7/dist-packages/ipykernel_launcher.py:1: FutureWarning: Treating datetime data as categorical rather than numeric in `.describe` is deprecated and will be removed in a future version of pandas. Specify `datetime_is_numeric=True` to silence this warning and adopt the future behavior now.\n",
            "  \"\"\"Entry point for launching an IPython kernel.\n"
          ],
          "name": "stderr"
        },
        {
          "output_type": "execute_result",
          "data": {
            "text/plain": [
              "count                   51516\n",
              "unique                      7\n",
              "top       2021-05-30 00:00:00\n",
              "freq                     8804\n",
              "first     2021-05-25 00:00:00\n",
              "last      2021-05-31 00:00:00\n",
              "Name: order_create_date, dtype: object"
            ]
          },
          "metadata": {},
          "execution_count": 22
        }
      ]
    },
    {
      "cell_type": "markdown",
      "metadata": {
        "id": "clI002zkEf6O"
      },
      "source": [
        "## Divide Shops Based on Groups"
      ]
    },
    {
      "cell_type": "code",
      "metadata": {
        "id": "lXWCTlTIGbZo"
      },
      "source": [
        "MERGE['shop_voucher_name'] = MERGE.shop_voucher_name.fillna('No Discount')"
      ],
      "execution_count": null,
      "outputs": []
    },
    {
      "cell_type": "code",
      "metadata": {
        "id": "t2Bb90woKzTL"
      },
      "source": [
        "MERGE['total_discount'] = MERGE['shop_voucher_cash_discount_by_seller'] + MERGE['shop_voucher_coin_discount_by_seller']"
      ],
      "execution_count": null,
      "outputs": []
    },
    {
      "cell_type": "code",
      "metadata": {
        "id": "_WrJyUotrzDU"
      },
      "source": [
        "SHOP_1A = MERGE[MERGE.GROUP == '1A']"
      ],
      "execution_count": null,
      "outputs": []
    },
    {
      "cell_type": "code",
      "metadata": {
        "id": "7AyjViLoystb"
      },
      "source": [
        "SHOP_1B = MERGE[MERGE.GROUP == '1B']"
      ],
      "execution_count": null,
      "outputs": []
    },
    {
      "cell_type": "code",
      "metadata": {
        "id": "qRibjxp7y81x"
      },
      "source": [
        "SHOP_2A = MERGE[MERGE.GROUP == '2A']"
      ],
      "execution_count": null,
      "outputs": []
    },
    {
      "cell_type": "code",
      "metadata": {
        "id": "eyeKGJ1YzB7B"
      },
      "source": [
        "SHOP_2B = MERGE[MERGE.GROUP == '2B']"
      ],
      "execution_count": null,
      "outputs": []
    },
    {
      "cell_type": "code",
      "metadata": {
        "id": "398Fh2ESzKKp"
      },
      "source": [
        "SHOP_3A = MERGE[MERGE.GROUP == '3A']"
      ],
      "execution_count": null,
      "outputs": []
    },
    {
      "cell_type": "code",
      "metadata": {
        "id": "ZQvh4fPgzMIH"
      },
      "source": [
        "SHOP_3B = MERGE[MERGE.GROUP == '3B']"
      ],
      "execution_count": null,
      "outputs": []
    },
    {
      "cell_type": "markdown",
      "metadata": {
        "id": "NfD4ozYQFoCm"
      },
      "source": [
        "## Coupon Distribution in Each Group"
      ]
    },
    {
      "cell_type": "markdown",
      "metadata": {
        "id": "o9n1-f8KGHNO"
      },
      "source": [
        "### Group 1"
      ]
    },
    {
      "cell_type": "code",
      "metadata": {
        "colab": {
          "base_uri": "https://localhost:8080/"
        },
        "id": "AhRmomk9GKHl",
        "outputId": "772e0a6e-424b-4101-cd06-c85b9d1f6fc8"
      },
      "source": [
        "SHOP_1A.shop_voucher_name.value_counts() * 100 / len(SHOP_1A)"
      ],
      "execution_count": null,
      "outputs": [
        {
          "output_type": "execute_result",
          "data": {
            "text/plain": [
              "TESTSV-18%-G1A-T1    50.986965\n",
              "No Discount          39.813780\n",
              "TESTSV-8%-G1A-T2      9.124767\n",
              "SV3                   0.074488\n",
              "Name: shop_voucher_name, dtype: float64"
            ]
          },
          "metadata": {},
          "execution_count": 31
        }
      ]
    },
    {
      "cell_type": "code",
      "metadata": {
        "colab": {
          "base_uri": "https://localhost:8080/"
        },
        "id": "NCF4KEqCGOIW",
        "outputId": "7f67e4a5-b203-409f-e587-cb184edd8024"
      },
      "source": [
        "SHOP_1B.shop_voucher_name.value_counts() * 100 / len(SHOP_1B)"
      ],
      "execution_count": null,
      "outputs": [
        {
          "output_type": "execute_result",
          "data": {
            "text/plain": [
              "TESTSV-20%-G1B-T1    51.697641\n",
              "No Discount          39.063617\n",
              "TESTSV-10%-G1B-T2     9.113653\n",
              "SV52                  0.035740\n",
              "SV14                  0.035740\n",
              "SV3                   0.035740\n",
              "SV26                  0.017870\n",
              "Name: shop_voucher_name, dtype: float64"
            ]
          },
          "metadata": {},
          "execution_count": 32
        }
      ]
    },
    {
      "cell_type": "markdown",
      "metadata": {
        "id": "Ds3U981zF4c9"
      },
      "source": [
        "### Group 2"
      ]
    },
    {
      "cell_type": "code",
      "metadata": {
        "colab": {
          "base_uri": "https://localhost:8080/"
        },
        "id": "lEOCg0mSXGcv",
        "outputId": "8c6971a6-bacc-40dc-b476-5811849851d7"
      },
      "source": [
        "SHOP_2A.shop_voucher_name.value_counts() * 100 / len(SHOP_2A)"
      ],
      "execution_count": null,
      "outputs": [
        {
          "output_type": "execute_result",
          "data": {
            "text/plain": [
              "TESTSV-15%-G2A-T1    53.102403\n",
              "No Discount          33.200193\n",
              "TESTSV-8%-G2A-T2      8.566903\n",
              "TESTSV-10%-G2A-T3     4.868811\n",
              "SV52                  0.082639\n",
              "SV3                   0.068866\n",
              "SV22                  0.027546\n",
              "SV11                  0.027546\n",
              "SV16                  0.020660\n",
              "SV33                  0.013773\n",
              "SV13                  0.013773\n",
              "SV9                   0.006887\n",
              "Name: shop_voucher_name, dtype: float64"
            ]
          },
          "metadata": {},
          "execution_count": 33
        }
      ]
    },
    {
      "cell_type": "code",
      "metadata": {
        "colab": {
          "base_uri": "https://localhost:8080/"
        },
        "id": "VD_7Xd-XXO9-",
        "outputId": "46585c77-3a60-4d8d-e97f-8871a7229a91"
      },
      "source": [
        "SHOP_2B.shop_voucher_name.value_counts() * 100 / len(SHOP_2B)"
      ],
      "execution_count": null,
      "outputs": [
        {
          "output_type": "execute_result",
          "data": {
            "text/plain": [
              "TESTSV-20%-G2B-T1    53.578746\n",
              "No Discount          31.808869\n",
              "TESTSV-10%-G2B-T2     9.160003\n",
              "TESTSV-12%-G2B-T3     5.320204\n",
              "SV52                  0.033045\n",
              "SV15                  0.026436\n",
              "SV7                   0.026436\n",
              "SV3                   0.019827\n",
              "SV2                   0.013218\n",
              "SV16                  0.006609\n",
              "SV30                  0.006609\n",
              "Name: shop_voucher_name, dtype: float64"
            ]
          },
          "metadata": {},
          "execution_count": 34
        }
      ]
    },
    {
      "cell_type": "markdown",
      "metadata": {
        "id": "BCz6sMcbF8uW"
      },
      "source": [
        "### Group 3"
      ]
    },
    {
      "cell_type": "code",
      "metadata": {
        "colab": {
          "base_uri": "https://localhost:8080/"
        },
        "id": "vxe-zfAdXSXu",
        "outputId": "8ef379c8-6852-45ba-ebe6-e56ea2a84816"
      },
      "source": [
        "SHOP_3A.shop_voucher_name.value_counts() * 100 / len(SHOP_3A)"
      ],
      "execution_count": null,
      "outputs": [
        {
          "output_type": "execute_result",
          "data": {
            "text/plain": [
              "No Discount          33.948607\n",
              "TESTSV-12%-G3A-T1    28.773073\n",
              "TESTSV-8%-G3A-T2     21.136446\n",
              "TESTSV-10%-G3A-T3    15.779949\n",
              "SV3                   0.307637\n",
              "SV52                  0.018096\n",
              "SV53                  0.018096\n",
              "SV54                  0.018096\n",
              "Name: shop_voucher_name, dtype: float64"
            ]
          },
          "metadata": {},
          "execution_count": 35
        }
      ]
    },
    {
      "cell_type": "code",
      "metadata": {
        "colab": {
          "base_uri": "https://localhost:8080/"
        },
        "id": "a1CrIhJsXVke",
        "outputId": "05de58ed-1aba-43c3-91ec-ca0bcb1a7684"
      },
      "source": [
        "SHOP_3B.shop_voucher_name.value_counts() * 100 / len(SHOP_3B)"
      ],
      "execution_count": null,
      "outputs": [
        {
          "output_type": "execute_result",
          "data": {
            "text/plain": [
              "No Discount          31.850335\n",
              "TESTSV-15%-G3B-T1    29.058079\n",
              "TESTSV-10%-G3B-T2    21.481757\n",
              "TESTSV-12%-G3B-T3    17.423678\n",
              "SV3                   0.074460\n",
              "SV52                  0.037230\n",
              "SV8                   0.037230\n",
              "SV6                   0.018615\n",
              "SV16                  0.018615\n",
              "Name: shop_voucher_name, dtype: float64"
            ]
          },
          "metadata": {},
          "execution_count": 36
        }
      ]
    },
    {
      "cell_type": "markdown",
      "metadata": {
        "id": "okSHCXsi1F1E"
      },
      "source": [
        "## Nature of Promotional Method"
      ]
    },
    {
      "cell_type": "markdown",
      "metadata": {
        "id": "CAtx7ZDSGH9A"
      },
      "source": [
        "* The vouchers are being distributed to cover a variety of gmv values(from low, intermediate to high)\n",
        "* In Group 1, A/B each test two different vouchers. \n",
        "* In group 2 and 3, A/B each test three different vouchers."
      ]
    },
    {
      "cell_type": "markdown",
      "metadata": {
        "id": "uPiTKHfm1Klc"
      },
      "source": [
        "### Get All Voucher Names"
      ]
    },
    {
      "cell_type": "code",
      "metadata": {
        "id": "viFV2VmJQqBW"
      },
      "source": [
        "name_1A = pd.DataFrame({'1A' : SHOP_1A.shop_voucher_name.unique()})\n",
        "name_1B = pd.DataFrame({'1B' : SHOP_1B.shop_voucher_name.unique()})\n",
        "voucher_G1 = pd.concat([name_1A, name_1B], axis=1)"
      ],
      "execution_count": null,
      "outputs": []
    },
    {
      "cell_type": "code",
      "metadata": {
        "id": "F4Ks-MLrSFgA"
      },
      "source": [
        "name_2A = pd.DataFrame({'2A' : SHOP_2A.shop_voucher_name.unique()})\n",
        "name_2B = pd.DataFrame({'2B' : SHOP_2B.shop_voucher_name.unique()})\n",
        "voucher_G2 = pd.concat([name_2A, name_2B], axis=1)"
      ],
      "execution_count": null,
      "outputs": []
    },
    {
      "cell_type": "code",
      "metadata": {
        "id": "KFJ6YG0bSowT"
      },
      "source": [
        "name_3A = pd.DataFrame({'3A' : SHOP_3A.shop_voucher_name.unique()})\n",
        "name_3B = pd.DataFrame({'3B' : SHOP_3B.shop_voucher_name.unique()})\n",
        "voucher_G3 = pd.concat([name_3A, name_3B], axis=1)"
      ],
      "execution_count": null,
      "outputs": []
    },
    {
      "cell_type": "code",
      "metadata": {
        "colab": {
          "base_uri": "https://localhost:8080/",
          "height": 282
        },
        "id": "BPmUdOC0S7d9",
        "outputId": "fc894421-15a6-42e8-cca1-d270537c6945"
      },
      "source": [
        "voucher_G1"
      ],
      "execution_count": null,
      "outputs": [
        {
          "output_type": "execute_result",
          "data": {
            "text/html": [
              "<div>\n",
              "<style scoped>\n",
              "    .dataframe tbody tr th:only-of-type {\n",
              "        vertical-align: middle;\n",
              "    }\n",
              "\n",
              "    .dataframe tbody tr th {\n",
              "        vertical-align: top;\n",
              "    }\n",
              "\n",
              "    .dataframe thead th {\n",
              "        text-align: right;\n",
              "    }\n",
              "</style>\n",
              "<table border=\"1\" class=\"dataframe\">\n",
              "  <thead>\n",
              "    <tr style=\"text-align: right;\">\n",
              "      <th></th>\n",
              "      <th>1A</th>\n",
              "      <th>1B</th>\n",
              "    </tr>\n",
              "  </thead>\n",
              "  <tbody>\n",
              "    <tr>\n",
              "      <th>0</th>\n",
              "      <td>TESTSV-18%-G1A-T1</td>\n",
              "      <td>TESTSV-20%-G1B-T1</td>\n",
              "    </tr>\n",
              "    <tr>\n",
              "      <th>1</th>\n",
              "      <td>No Discount</td>\n",
              "      <td>No Discount</td>\n",
              "    </tr>\n",
              "    <tr>\n",
              "      <th>2</th>\n",
              "      <td>TESTSV-8%-G1A-T2</td>\n",
              "      <td>TESTSV-10%-G1B-T2</td>\n",
              "    </tr>\n",
              "    <tr>\n",
              "      <th>3</th>\n",
              "      <td>SV3</td>\n",
              "      <td>SV14</td>\n",
              "    </tr>\n",
              "    <tr>\n",
              "      <th>4</th>\n",
              "      <td>NaN</td>\n",
              "      <td>SV26</td>\n",
              "    </tr>\n",
              "    <tr>\n",
              "      <th>5</th>\n",
              "      <td>NaN</td>\n",
              "      <td>SV3</td>\n",
              "    </tr>\n",
              "    <tr>\n",
              "      <th>6</th>\n",
              "      <td>NaN</td>\n",
              "      <td>SV52</td>\n",
              "    </tr>\n",
              "  </tbody>\n",
              "</table>\n",
              "</div>"
            ],
            "text/plain": [
              "                  1A                 1B\n",
              "0  TESTSV-18%-G1A-T1  TESTSV-20%-G1B-T1\n",
              "1        No Discount        No Discount\n",
              "2   TESTSV-8%-G1A-T2  TESTSV-10%-G1B-T2\n",
              "3                SV3               SV14\n",
              "4                NaN               SV26\n",
              "5                NaN                SV3\n",
              "6                NaN               SV52"
            ]
          },
          "metadata": {},
          "execution_count": 40
        }
      ]
    },
    {
      "cell_type": "code",
      "metadata": {
        "colab": {
          "base_uri": "https://localhost:8080/",
          "height": 435
        },
        "id": "cPKhoKcpS8-u",
        "outputId": "a3a31793-ed51-4a94-dd1b-dbe92b8d1bed"
      },
      "source": [
        "voucher_G2"
      ],
      "execution_count": null,
      "outputs": [
        {
          "output_type": "execute_result",
          "data": {
            "text/html": [
              "<div>\n",
              "<style scoped>\n",
              "    .dataframe tbody tr th:only-of-type {\n",
              "        vertical-align: middle;\n",
              "    }\n",
              "\n",
              "    .dataframe tbody tr th {\n",
              "        vertical-align: top;\n",
              "    }\n",
              "\n",
              "    .dataframe thead th {\n",
              "        text-align: right;\n",
              "    }\n",
              "</style>\n",
              "<table border=\"1\" class=\"dataframe\">\n",
              "  <thead>\n",
              "    <tr style=\"text-align: right;\">\n",
              "      <th></th>\n",
              "      <th>2A</th>\n",
              "      <th>2B</th>\n",
              "    </tr>\n",
              "  </thead>\n",
              "  <tbody>\n",
              "    <tr>\n",
              "      <th>0</th>\n",
              "      <td>TESTSV-15%-G2A-T1</td>\n",
              "      <td>TESTSV-20%-G2B-T1</td>\n",
              "    </tr>\n",
              "    <tr>\n",
              "      <th>1</th>\n",
              "      <td>No Discount</td>\n",
              "      <td>No Discount</td>\n",
              "    </tr>\n",
              "    <tr>\n",
              "      <th>2</th>\n",
              "      <td>TESTSV-8%-G2A-T2</td>\n",
              "      <td>SV3</td>\n",
              "    </tr>\n",
              "    <tr>\n",
              "      <th>3</th>\n",
              "      <td>TESTSV-10%-G2A-T3</td>\n",
              "      <td>TESTSV-10%-G2B-T2</td>\n",
              "    </tr>\n",
              "    <tr>\n",
              "      <th>4</th>\n",
              "      <td>SV9</td>\n",
              "      <td>TESTSV-12%-G2B-T3</td>\n",
              "    </tr>\n",
              "    <tr>\n",
              "      <th>5</th>\n",
              "      <td>SV22</td>\n",
              "      <td>SV52</td>\n",
              "    </tr>\n",
              "    <tr>\n",
              "      <th>6</th>\n",
              "      <td>SV3</td>\n",
              "      <td>SV7</td>\n",
              "    </tr>\n",
              "    <tr>\n",
              "      <th>7</th>\n",
              "      <td>SV16</td>\n",
              "      <td>SV2</td>\n",
              "    </tr>\n",
              "    <tr>\n",
              "      <th>8</th>\n",
              "      <td>SV52</td>\n",
              "      <td>SV30</td>\n",
              "    </tr>\n",
              "    <tr>\n",
              "      <th>9</th>\n",
              "      <td>SV13</td>\n",
              "      <td>SV15</td>\n",
              "    </tr>\n",
              "    <tr>\n",
              "      <th>10</th>\n",
              "      <td>SV11</td>\n",
              "      <td>SV16</td>\n",
              "    </tr>\n",
              "    <tr>\n",
              "      <th>11</th>\n",
              "      <td>SV33</td>\n",
              "      <td>NaN</td>\n",
              "    </tr>\n",
              "  </tbody>\n",
              "</table>\n",
              "</div>"
            ],
            "text/plain": [
              "                   2A                 2B\n",
              "0   TESTSV-15%-G2A-T1  TESTSV-20%-G2B-T1\n",
              "1         No Discount        No Discount\n",
              "2    TESTSV-8%-G2A-T2                SV3\n",
              "3   TESTSV-10%-G2A-T3  TESTSV-10%-G2B-T2\n",
              "4                 SV9  TESTSV-12%-G2B-T3\n",
              "5                SV22               SV52\n",
              "6                 SV3                SV7\n",
              "7                SV16                SV2\n",
              "8                SV52               SV30\n",
              "9                SV13               SV15\n",
              "10               SV11               SV16\n",
              "11               SV33                NaN"
            ]
          },
          "metadata": {},
          "execution_count": 41
        }
      ]
    },
    {
      "cell_type": "code",
      "metadata": {
        "colab": {
          "base_uri": "https://localhost:8080/",
          "height": 343
        },
        "id": "gqUkfN-tS_BS",
        "outputId": "b25990cd-a4d1-405b-c242-545e55daceaf"
      },
      "source": [
        "voucher_G3"
      ],
      "execution_count": null,
      "outputs": [
        {
          "output_type": "execute_result",
          "data": {
            "text/html": [
              "<div>\n",
              "<style scoped>\n",
              "    .dataframe tbody tr th:only-of-type {\n",
              "        vertical-align: middle;\n",
              "    }\n",
              "\n",
              "    .dataframe tbody tr th {\n",
              "        vertical-align: top;\n",
              "    }\n",
              "\n",
              "    .dataframe thead th {\n",
              "        text-align: right;\n",
              "    }\n",
              "</style>\n",
              "<table border=\"1\" class=\"dataframe\">\n",
              "  <thead>\n",
              "    <tr style=\"text-align: right;\">\n",
              "      <th></th>\n",
              "      <th>3A</th>\n",
              "      <th>3B</th>\n",
              "    </tr>\n",
              "  </thead>\n",
              "  <tbody>\n",
              "    <tr>\n",
              "      <th>0</th>\n",
              "      <td>TESTSV-10%-G3A-T3</td>\n",
              "      <td>TESTSV-15%-G3B-T1</td>\n",
              "    </tr>\n",
              "    <tr>\n",
              "      <th>1</th>\n",
              "      <td>No Discount</td>\n",
              "      <td>TESTSV-10%-G3B-T2</td>\n",
              "    </tr>\n",
              "    <tr>\n",
              "      <th>2</th>\n",
              "      <td>TESTSV-12%-G3A-T1</td>\n",
              "      <td>No Discount</td>\n",
              "    </tr>\n",
              "    <tr>\n",
              "      <th>3</th>\n",
              "      <td>TESTSV-8%-G3A-T2</td>\n",
              "      <td>TESTSV-12%-G3B-T3</td>\n",
              "    </tr>\n",
              "    <tr>\n",
              "      <th>4</th>\n",
              "      <td>SV3</td>\n",
              "      <td>SV3</td>\n",
              "    </tr>\n",
              "    <tr>\n",
              "      <th>5</th>\n",
              "      <td>SV52</td>\n",
              "      <td>SV8</td>\n",
              "    </tr>\n",
              "    <tr>\n",
              "      <th>6</th>\n",
              "      <td>SV54</td>\n",
              "      <td>SV6</td>\n",
              "    </tr>\n",
              "    <tr>\n",
              "      <th>7</th>\n",
              "      <td>SV53</td>\n",
              "      <td>SV52</td>\n",
              "    </tr>\n",
              "    <tr>\n",
              "      <th>8</th>\n",
              "      <td>NaN</td>\n",
              "      <td>SV16</td>\n",
              "    </tr>\n",
              "  </tbody>\n",
              "</table>\n",
              "</div>"
            ],
            "text/plain": [
              "                  3A                 3B\n",
              "0  TESTSV-10%-G3A-T3  TESTSV-15%-G3B-T1\n",
              "1        No Discount  TESTSV-10%-G3B-T2\n",
              "2  TESTSV-12%-G3A-T1        No Discount\n",
              "3   TESTSV-8%-G3A-T2  TESTSV-12%-G3B-T3\n",
              "4                SV3                SV3\n",
              "5               SV52                SV8\n",
              "6               SV54                SV6\n",
              "7               SV53               SV52\n",
              "8                NaN               SV16"
            ]
          },
          "metadata": {},
          "execution_count": 42
        }
      ]
    },
    {
      "cell_type": "markdown",
      "metadata": {
        "id": "PZYQNwDY1VLz"
      },
      "source": [
        "### Group 3 Vouhcer Exploration"
      ]
    },
    {
      "cell_type": "markdown",
      "metadata": {
        "id": "wzD-GmAF4fKP"
      },
      "source": [
        "#### Group 3A"
      ]
    },
    {
      "cell_type": "code",
      "metadata": {
        "colab": {
          "base_uri": "https://localhost:8080/"
        },
        "id": "jTfi0gasbTLm",
        "outputId": "f4899274-e335-4c3b-f9cb-cc421613ada5"
      },
      "source": [
        "SHOP_3A[SHOP_3A.shop_voucher_name == 'TESTSV-10%-G3A-T3'].gmv_usd.describe()"
      ],
      "execution_count": null,
      "outputs": [
        {
          "output_type": "execute_result",
          "data": {
            "text/plain": [
              "count     872.000000\n",
              "mean     1162.744304\n",
              "std       716.239535\n",
              "min       522.949473\n",
              "25%       741.046281\n",
              "50%       902.791417\n",
              "75%      1346.475957\n",
              "max      7481.226606\n",
              "Name: gmv_usd, dtype: float64"
            ]
          },
          "metadata": {},
          "execution_count": 43
        }
      ]
    },
    {
      "cell_type": "code",
      "metadata": {
        "colab": {
          "base_uri": "https://localhost:8080/",
          "height": 405
        },
        "id": "j9j9o0y01k4X",
        "outputId": "605144d2-781a-4835-e7a3-e21ac780ddba"
      },
      "source": [
        "sns.displot(SHOP_3A[SHOP_3A.shop_voucher_name == 'TESTSV-10%-G3A-T3'].gmv_usd)\n",
        "plt.axis([400,2500, 0, 250])\n",
        "plt.xlabel('GMV')\n",
        "plt.title('G3A 10% Voucher Distribution', weight='bold')\n",
        "plt.show()"
      ],
      "execution_count": null,
      "outputs": [
        {
          "output_type": "display_data",
          "data": {
            "image/png": "[encoded data removed]",
            "text/plain": [
              "<Figure size 360x360 with 1 Axes>"
            ]
          },
          "metadata": {
            "needs_background": "light"
          }
        }
      ]
    },
    {
      "cell_type": "code",
      "metadata": {
        "colab": {
          "base_uri": "https://localhost:8080/"
        },
        "id": "0F7xT01Pbh_I",
        "outputId": "c8fb221a-2e05-4adf-eb0b-cf4b6f987c6b"
      },
      "source": [
        "SHOP_3A[SHOP_3A.shop_voucher_name == 'TESTSV-8%-G3A-T2'].gmv_usd.describe()"
      ],
      "execution_count": null,
      "outputs": [
        {
          "output_type": "execute_result",
          "data": {
            "text/plain": [
              "count    1168.000000\n",
              "mean      498.120730\n",
              "std       249.250048\n",
              "min        54.845877\n",
              "25%       386.754954\n",
              "50%       469.630383\n",
              "75%       556.307852\n",
              "max      4798.977609\n",
              "Name: gmv_usd, dtype: float64"
            ]
          },
          "metadata": {},
          "execution_count": 45
        }
      ]
    },
    {
      "cell_type": "code",
      "metadata": {
        "colab": {
          "base_uri": "https://localhost:8080/",
          "height": 405
        },
        "id": "p5YP62xN2fmu",
        "outputId": "99cd2085-f61a-4a6b-b362-e0a882f3edc9"
      },
      "source": [
        "sns.displot(SHOP_3A[SHOP_3A.shop_voucher_name == 'TESTSV-8%-G3A-T2'].gmv_usd)\n",
        "plt.axis([200,800, 0, 200])\n",
        "plt.xlabel('GMV')\n",
        "plt.title('G3A 8% Voucher Distribution', weight='bold')\n",
        "plt.show()"
      ],
      "execution_count": null,
      "outputs": [
        {
          "output_type": "display_data",
          "data": {
            "image/png": "[encoded data removed]",
            "text/plain": [
              "<Figure size 360x360 with 1 Axes>"
            ]
          },
          "metadata": {
            "needs_background": "light"
          }
        }
      ]
    },
    {
      "cell_type": "code",
      "metadata": {
        "colab": {
          "base_uri": "https://localhost:8080/"
        },
        "id": "WjImWEKVXAD6",
        "outputId": "0ab44895-2062-4f86-b9eb-fb52129acd7a"
      },
      "source": [
        "SHOP_3A[SHOP_3A.shop_voucher_name == 'TESTSV-12%-G3A-T1'].gmv_usd.describe()"
      ],
      "execution_count": null,
      "outputs": [
        {
          "output_type": "execute_result",
          "data": {
            "text/plain": [
              "count    1590.000000\n",
              "mean      287.594631\n",
              "std       286.931330\n",
              "min         6.596173\n",
              "25%       183.391053\n",
              "50%       236.891194\n",
              "75%       305.305290\n",
              "max      7009.411494\n",
              "Name: gmv_usd, dtype: float64"
            ]
          },
          "metadata": {},
          "execution_count": 47
        }
      ]
    },
    {
      "cell_type": "code",
      "metadata": {
        "colab": {
          "base_uri": "https://localhost:8080/",
          "height": 405
        },
        "id": "Zi-VKf8R3B_N",
        "outputId": "f642cad6-4fb9-487a-c0ea-a06e00c2f8d1"
      },
      "source": [
        "sns.displot(SHOP_3A[SHOP_3A.shop_voucher_name == 'TESTSV-12%-G3A-T1'].gmv_usd)\n",
        "plt.axis([50,450, 0, 200])\n",
        "plt.xlabel('GMV')\n",
        "plt.title('G3A 12% Voucher Distribution', weight='bold')\n",
        "plt.show()"
      ],
      "execution_count": null,
      "outputs": [
        {
          "output_type": "display_data",
          "data": {
            "image/png": "[encoded data removed]",
            "text/plain": [
              "<Figure size 360x360 with 1 Axes>"
            ]
          },
          "metadata": {
            "needs_background": "light"
          }
        }
      ]
    },
    {
      "cell_type": "markdown",
      "metadata": {
        "id": "dTNUvfBo4mEi"
      },
      "source": [
        "#### Group 3B"
      ]
    },
    {
      "cell_type": "code",
      "metadata": {
        "colab": {
          "base_uri": "https://localhost:8080/"
        },
        "id": "oaNsDrmsnclB",
        "outputId": "0d865358-650d-486a-c962-316e2c9caed6"
      },
      "source": [
        "SHOP_3B[SHOP_3B.shop_voucher_name == 'TESTSV-15%-G3B-T1'].gmv_usd.describe()"
      ],
      "execution_count": null,
      "outputs": [
        {
          "output_type": "execute_result",
          "data": {
            "text/plain": [
              "count    1561.000000\n",
              "mean      277.808391\n",
              "std       264.833219\n",
              "min        37.827220\n",
              "25%       175.334349\n",
              "50%       231.640757\n",
              "75%       305.871070\n",
              "max      6412.491147\n",
              "Name: gmv_usd, dtype: float64"
            ]
          },
          "metadata": {},
          "execution_count": 49
        }
      ]
    },
    {
      "cell_type": "code",
      "metadata": {
        "colab": {
          "base_uri": "https://localhost:8080/",
          "height": 405
        },
        "id": "pAi_KI5S3d0c",
        "outputId": "61802181-3239-4fb0-871c-52f8c4556478"
      },
      "source": [
        "sns.displot(SHOP_3B[SHOP_3B.shop_voucher_name == 'TESTSV-15%-G3B-T1'].gmv_usd)\n",
        "plt.axis([80,450, 0, 250])\n",
        "plt.xlabel('GMV')\n",
        "plt.title('G3B 15% Voucher Distribution', weight='bold')\n",
        "plt.show()"
      ],
      "execution_count": null,
      "outputs": [
        {
          "output_type": "display_data",
          "data": {
            "image/png": "[encoded data removed]",
            "text/plain": [
              "<Figure size 360x360 with 1 Axes>"
            ]
          },
          "metadata": {
            "needs_background": "light"
          }
        }
      ]
    },
    {
      "cell_type": "code",
      "metadata": {
        "colab": {
          "base_uri": "https://localhost:8080/"
        },
        "id": "7JNQj6RwoFuF",
        "outputId": "3775bcca-ff0a-469e-f7b1-933a72b782a0"
      },
      "source": [
        "SHOP_3B[SHOP_3B.shop_voucher_name == 'TESTSV-10%-G3B-T2'].gmv_usd.describe()"
      ],
      "execution_count": null,
      "outputs": [
        {
          "output_type": "execute_result",
          "data": {
            "text/plain": [
              "count    1154.000000\n",
              "mean      463.290197\n",
              "std       150.472347\n",
              "min        23.433781\n",
              "25%       370.143658\n",
              "50%       435.502544\n",
              "75%       528.697797\n",
              "max      2861.294862\n",
              "Name: gmv_usd, dtype: float64"
            ]
          },
          "metadata": {},
          "execution_count": 51
        }
      ]
    },
    {
      "cell_type": "code",
      "metadata": {
        "colab": {
          "base_uri": "https://localhost:8080/",
          "height": 402
        },
        "id": "9yeKB4AN3-GF",
        "outputId": "a7710d68-d8fe-4969-9e5b-3bd2f3b12051"
      },
      "source": [
        "sns.displot(SHOP_3B[SHOP_3B.shop_voucher_name == 'TESTSV-10%-G3B-T2'].gmv_usd)\n",
        "plt.axis([200, 780, 0, 160])\n",
        "plt.xlabel('GMV')\n",
        "plt.title('G3B 10% Voucher Distribution', weight='bold')\n",
        "plt.show()"
      ],
      "execution_count": null,
      "outputs": [
        {
          "output_type": "display_data",
          "data": {
            "image/png": "[encoded data removed]",
            "text/plain": [
              "<Figure size 360x360 with 1 Axes>"
            ]
          },
          "metadata": {
            "needs_background": "light"
          }
        }
      ]
    },
    {
      "cell_type": "code",
      "metadata": {
        "colab": {
          "base_uri": "https://localhost:8080/"
        },
        "id": "hBVltvfKoOf9",
        "outputId": "57cc46d0-b757-4462-c816-5dec355472d7"
      },
      "source": [
        "SHOP_3B[SHOP_3B.shop_voucher_name == 'TESTSV-12%-G3B-T3'].gmv_usd.describe()"
      ],
      "execution_count": null,
      "outputs": [
        {
          "output_type": "execute_result",
          "data": {
            "text/plain": [
              "count      936.000000\n",
              "mean      1172.593150\n",
              "std        864.927941\n",
              "min        295.460721\n",
              "25%        748.491943\n",
              "50%        933.660365\n",
              "75%       1316.851725\n",
              "max      16147.615663\n",
              "Name: gmv_usd, dtype: float64"
            ]
          },
          "metadata": {},
          "execution_count": 53
        }
      ]
    },
    {
      "cell_type": "code",
      "metadata": {
        "colab": {
          "base_uri": "https://localhost:8080/",
          "height": 405
        },
        "id": "0_5Wy18e4xFp",
        "outputId": "8a7eee6b-e428-4bf6-b69a-33335c70df78"
      },
      "source": [
        "sns.displot(SHOP_3B[SHOP_3B.shop_voucher_name == 'TESTSV-12%-G3B-T3'].gmv_usd)\n",
        "plt.axis([500,2000, 0, 250])\n",
        "plt.xlabel('GMV')\n",
        "plt.title('G3B 12% Voucher Distribution', weight='bold')\n",
        "plt.show()"
      ],
      "execution_count": null,
      "outputs": [
        {
          "output_type": "display_data",
          "data": {
            "image/png": "[encoded data removed]",
            "text/plain": [
              "<Figure size 360x360 with 1 Axes>"
            ]
          },
          "metadata": {
            "needs_background": "light"
          }
        }
      ]
    },
    {
      "cell_type": "markdown",
      "metadata": {
        "id": "pfzOqAVL6buf"
      },
      "source": [
        "### Group 2 Exploration"
      ]
    },
    {
      "cell_type": "markdown",
      "metadata": {
        "id": "7fSLkQKY6lJ2"
      },
      "source": [
        "#### Group 2A "
      ]
    },
    {
      "cell_type": "code",
      "metadata": {
        "colab": {
          "base_uri": "https://localhost:8080/"
        },
        "id": "l6UH-i-nb4tv",
        "outputId": "3e9a81f6-58c6-45e2-9256-678b8ff4beaf"
      },
      "source": [
        "SHOP_2A[SHOP_2A.shop_voucher_name == 'TESTSV-8%-G2A-T2'].gmv_usd.describe()"
      ],
      "execution_count": null,
      "outputs": [
        {
          "output_type": "execute_result",
          "data": {
            "text/plain": [
              "count    1244.000000\n",
              "mean      370.540104\n",
              "std       107.254401\n",
              "min        49.957539\n",
              "25%       314.018299\n",
              "50%       351.812392\n",
              "75%       413.799230\n",
              "max      2418.719251\n",
              "Name: gmv_usd, dtype: float64"
            ]
          },
          "metadata": {},
          "execution_count": 55
        }
      ]
    },
    {
      "cell_type": "code",
      "metadata": {
        "colab": {
          "base_uri": "https://localhost:8080/",
          "height": 405
        },
        "id": "K4N2NrBP6qnv",
        "outputId": "70a176ec-8236-48a6-90b2-ab4f557b9387"
      },
      "source": [
        "sns.displot(SHOP_2A[SHOP_2A.shop_voucher_name == 'TESTSV-8%-G2A-T2'].gmv_usd)\n",
        "plt.axis([150, 550, 0, 150])\n",
        "plt.xlabel('GMV')\n",
        "plt.title('G2A 8% Voucher Distribution', weight='bold')\n",
        "plt.show()"
      ],
      "execution_count": null,
      "outputs": [
        {
          "output_type": "display_data",
          "data": {
            "image/png": "[encoded data removed]",
            "text/plain": [
              "<Figure size 360x360 with 1 Axes>"
            ]
          },
          "metadata": {
            "needs_background": "light"
          }
        }
      ]
    },
    {
      "cell_type": "code",
      "metadata": {
        "colab": {
          "base_uri": "https://localhost:8080/"
        },
        "id": "s99trhDkcM2_",
        "outputId": "91e37622-655a-4d5b-98b9-14c5a60167e9"
      },
      "source": [
        "SHOP_2A[SHOP_2A.shop_voucher_name == 'TESTSV-15%-G2A-T1'].gmv_usd.describe()"
      ],
      "execution_count": null,
      "outputs": [
        {
          "output_type": "execute_result",
          "data": {
            "text/plain": [
              "count    7711.000000\n",
              "mean      164.839227\n",
              "std        94.281920\n",
              "min         5.962500\n",
              "25%       112.148058\n",
              "50%       148.448491\n",
              "75%       201.179171\n",
              "max      2951.910159\n",
              "Name: gmv_usd, dtype: float64"
            ]
          },
          "metadata": {},
          "execution_count": 57
        }
      ]
    },
    {
      "cell_type": "code",
      "metadata": {
        "colab": {
          "base_uri": "https://localhost:8080/",
          "height": 405
        },
        "id": "AXyAvWLu7fjT",
        "outputId": "265b9282-b715-467f-ad61-c17ac59cf455"
      },
      "source": [
        "sns.displot(SHOP_2A[SHOP_2A.shop_voucher_name == 'TESTSV-15%-G2A-T1'].gmv_usd)\n",
        "plt.axis([5, 350, 0, 550])\n",
        "plt.xlabel('GMV')\n",
        "plt.title('G2A 15% Voucher Distribution', weight='bold')\n",
        "plt.show()"
      ],
      "execution_count": null,
      "outputs": [
        {
          "output_type": "display_data",
          "data": {
            "image/png": "[encoded data removed]",
            "text/plain": [
              "<Figure size 360x360 with 1 Axes>"
            ]
          },
          "metadata": {
            "needs_background": "light"
          }
        }
      ]
    },
    {
      "cell_type": "code",
      "metadata": {
        "colab": {
          "base_uri": "https://localhost:8080/"
        },
        "id": "-YrO8lkkcUZY",
        "outputId": "cfa78417-438a-424a-b89f-dd1e6fb5c506"
      },
      "source": [
        "SHOP_2A[SHOP_2A.shop_voucher_name == 'TESTSV-10%-G2A-T3'].gmv_usd.describe()"
      ],
      "execution_count": null,
      "outputs": [
        {
          "output_type": "execute_result",
          "data": {
            "text/plain": [
              "count     707.000000\n",
              "mean      776.013843\n",
              "std       447.917349\n",
              "min        59.734215\n",
              "25%       532.907198\n",
              "50%       629.225556\n",
              "75%       835.486249\n",
              "max      4932.863747\n",
              "Name: gmv_usd, dtype: float64"
            ]
          },
          "metadata": {},
          "execution_count": 59
        }
      ]
    },
    {
      "cell_type": "code",
      "metadata": {
        "colab": {
          "base_uri": "https://localhost:8080/",
          "height": 405
        },
        "id": "0DdY1AoD75jh",
        "outputId": "dd077e25-947a-4e16-abad-2a7be859d56e"
      },
      "source": [
        "sns.displot(SHOP_2A[SHOP_2A.shop_voucher_name == 'TESTSV-10%-G2A-T3'].gmv_usd)\n",
        "plt.axis([350, 1500, 0, 200])\n",
        "plt.xlabel('GMV')\n",
        "plt.title('G2A 10% Voucher Distribution', weight='bold')\n",
        "plt.show()"
      ],
      "execution_count": null,
      "outputs": [
        {
          "output_type": "display_data",
          "data": {
            "image/png": "[encoded data removed]",
            "text/plain": [
              "<Figure size 360x360 with 1 Axes>"
            ]
          },
          "metadata": {
            "needs_background": "light"
          }
        }
      ]
    },
    {
      "cell_type": "markdown",
      "metadata": {
        "id": "L_6hHCg4_dwH"
      },
      "source": [
        "#### Group 2B"
      ]
    },
    {
      "cell_type": "code",
      "metadata": {
        "colab": {
          "base_uri": "https://localhost:8080/"
        },
        "id": "zd8Cq_dkli3M",
        "outputId": "218cf72b-0026-4a6d-c50c-9b6e5f96d5f1"
      },
      "source": [
        "SHOP_2B[SHOP_2B.shop_voucher_name == 'TESTSV-20%-G2B-T1'].gmv_usd.describe()"
      ],
      "execution_count": null,
      "outputs": [
        {
          "output_type": "execute_result",
          "data": {
            "text/plain": [
              "count    8107.000000\n",
              "mean      165.766192\n",
              "std        97.139799\n",
              "min         5.962500\n",
              "25%       111.242810\n",
              "50%       149.263214\n",
              "75%       200.726547\n",
              "max      2754.837730\n",
              "Name: gmv_usd, dtype: float64"
            ]
          },
          "metadata": {},
          "execution_count": 61
        }
      ]
    },
    {
      "cell_type": "code",
      "metadata": {
        "colab": {
          "base_uri": "https://localhost:8080/",
          "height": 405
        },
        "id": "5e716gB4-65M",
        "outputId": "5dd0d1e1-2b04-4b31-f3c9-74b8bd9fe8a6"
      },
      "source": [
        "sns.displot(SHOP_2B[SHOP_2B.shop_voucher_name == 'TESTSV-20%-G2B-T1'].gmv_usd)\n",
        "plt.axis([40, 350, 0, 500])\n",
        "plt.xlabel('GMV')\n",
        "plt.title('G2B 20% Voucher Distribution', weight='bold')\n",
        "plt.show()"
      ],
      "execution_count": null,
      "outputs": [
        {
          "output_type": "display_data",
          "data": {
            "image/png": "[encoded data removed]",
            "text/plain": [
              "<Figure size 360x360 with 1 Axes>"
            ]
          },
          "metadata": {
            "needs_background": "light"
          }
        }
      ]
    },
    {
      "cell_type": "code",
      "metadata": {
        "colab": {
          "base_uri": "https://localhost:8080/"
        },
        "id": "ET3cUAQYl2Kb",
        "outputId": "87be632c-cd16-4019-b9a9-0e9a4397724d"
      },
      "source": [
        "SHOP_2B[SHOP_2B.shop_voucher_name == 'TESTSV-10%-G2B-T2'].gmv_usd.describe()"
      ],
      "execution_count": null,
      "outputs": [
        {
          "output_type": "execute_result",
          "data": {
            "text/plain": [
              "count    1386.000000\n",
              "mean      362.959806\n",
              "std       171.877286\n",
              "min        14.652878\n",
              "25%       308.156820\n",
              "50%       346.154594\n",
              "75%       399.156848\n",
              "max      5912.070206\n",
              "Name: gmv_usd, dtype: float64"
            ]
          },
          "metadata": {},
          "execution_count": 63
        }
      ]
    },
    {
      "cell_type": "code",
      "metadata": {
        "colab": {
          "base_uri": "https://localhost:8080/",
          "height": 405
        },
        "id": "i0enQbR0_Xj4",
        "outputId": "8771abb4-2124-40ff-eed5-628442b7d82e"
      },
      "source": [
        "sns.displot(SHOP_2B[SHOP_2B.shop_voucher_name == 'TESTSV-10%-G2B-T2'].gmv_usd)\n",
        "plt.axis([150, 600, 0, 200])\n",
        "plt.xlabel('GMV')\n",
        "plt.title('G2B 10% Voucher Distribution', weight='bold')\n",
        "plt.show()"
      ],
      "execution_count": null,
      "outputs": [
        {
          "output_type": "display_data",
          "data": {
            "image/png": "[encoded data removed]",
            "text/plain": [
              "<Figure size 360x360 with 1 Axes>"
            ]
          },
          "metadata": {
            "needs_background": "light"
          }
        }
      ]
    },
    {
      "cell_type": "code",
      "metadata": {
        "colab": {
          "base_uri": "https://localhost:8080/"
        },
        "id": "wEH-qaT5mLJ5",
        "outputId": "c4ee7fb6-4125-4240-afb3-39dc18028271"
      },
      "source": [
        "SHOP_2B[SHOP_2B.shop_voucher_name == 'TESTSV-12%-G2B-T3'].gmv_usd.describe()"
      ],
      "execution_count": null,
      "outputs": [
        {
          "output_type": "execute_result",
          "data": {
            "text/plain": [
              "count     805.000000\n",
              "mean      750.392232\n",
              "std       510.984716\n",
              "min        38.098794\n",
              "25%       537.705011\n",
              "50%       613.836345\n",
              "75%       783.570292\n",
              "max      8907.263341\n",
              "Name: gmv_usd, dtype: float64"
            ]
          },
          "metadata": {},
          "execution_count": 65
        }
      ]
    },
    {
      "cell_type": "code",
      "metadata": {
        "colab": {
          "base_uri": "https://localhost:8080/",
          "height": 405
        },
        "id": "-qmyhWBGAsER",
        "outputId": "49ae50a6-7794-4f5f-871a-9c8c34ea6b9d"
      },
      "source": [
        "sns.displot(SHOP_2B[SHOP_2B.shop_voucher_name == 'TESTSV-12%-G2B-T3'].gmv_usd)\n",
        "plt.axis([350, 1000, 0, 175])\n",
        "plt.xlabel('GMV')\n",
        "plt.title('G2B 12% Voucher Distribution', weight='bold')\n",
        "plt.show()"
      ],
      "execution_count": null,
      "outputs": [
        {
          "output_type": "display_data",
          "data": {
            "image/png": "[encoded data removed]",
            "text/plain": [
              "<Figure size 360x360 with 1 Axes>"
            ]
          },
          "metadata": {
            "needs_background": "light"
          }
        }
      ]
    },
    {
      "cell_type": "markdown",
      "metadata": {
        "id": "paCBBVhhBQKu"
      },
      "source": [
        "### Group 1 Voucher Exploration"
      ]
    },
    {
      "cell_type": "markdown",
      "metadata": {
        "id": "puKzhxTmBccj"
      },
      "source": [
        "#### Group 1A"
      ]
    },
    {
      "cell_type": "code",
      "metadata": {
        "colab": {
          "base_uri": "https://localhost:8080/"
        },
        "id": "Ij3CRq4Bc03h",
        "outputId": "bd4e1c66-1bb4-4e39-89ad-e0c75dfbdfae"
      },
      "source": [
        "SHOP_1A[SHOP_1A.shop_voucher_name == 'TESTSV-18%-G1A-T1'].gmv_usd.describe()"
      ],
      "execution_count": null,
      "outputs": [
        {
          "output_type": "execute_result",
          "data": {
            "text/plain": [
              "count    2738.000000\n",
              "mean      104.520899\n",
              "std        72.412711\n",
              "min        15.014977\n",
              "25%        70.800868\n",
              "50%        94.586252\n",
              "75%       127.786212\n",
              "max      2542.919238\n",
              "Name: gmv_usd, dtype: float64"
            ]
          },
          "metadata": {},
          "execution_count": 67
        }
      ]
    },
    {
      "cell_type": "code",
      "metadata": {
        "colab": {
          "base_uri": "https://localhost:8080/",
          "height": 405
        },
        "id": "MIpDCzmXBlqg",
        "outputId": "80b553cd-640e-4be8-cd04-fc12c7833f9f"
      },
      "source": [
        "sns.displot(SHOP_1A[SHOP_1A.shop_voucher_name == 'TESTSV-18%-G1A-T1'].gmv_usd)\n",
        "plt.axis([30, 200, 0, 250])\n",
        "plt.xlabel('GMV')\n",
        "plt.title('G1A 18% Voucher Distribution', weight='bold')\n",
        "plt.show()"
      ],
      "execution_count": null,
      "outputs": [
        {
          "output_type": "display_data",
          "data": {
            "image/png": "[encoded data removed]",
            "text/plain": [
              "<Figure size 360x360 with 1 Axes>"
            ]
          },
          "metadata": {
            "needs_background": "light"
          }
        }
      ]
    },
    {
      "cell_type": "code",
      "metadata": {
        "colab": {
          "base_uri": "https://localhost:8080/"
        },
        "id": "US21vPKCea-u",
        "outputId": "8f3c2291-d5a0-4a6d-9bdf-3a8f2b6c5d88"
      },
      "source": [
        "SHOP_1A[SHOP_1A.shop_voucher_name == 'TESTSV-8%-G1A-T2'].gmv_usd.describe()"
      ],
      "execution_count": null,
      "outputs": [
        {
          "output_type": "execute_result",
          "data": {
            "text/plain": [
              "count    490.000000\n",
              "mean     211.376879\n",
              "std       44.729799\n",
              "min      121.924733\n",
              "25%      182.101075\n",
              "50%      201.224433\n",
              "75%      233.858614\n",
              "max      519.328483\n",
              "Name: gmv_usd, dtype: float64"
            ]
          },
          "metadata": {},
          "execution_count": 69
        }
      ]
    },
    {
      "cell_type": "code",
      "metadata": {
        "colab": {
          "base_uri": "https://localhost:8080/",
          "height": 405
        },
        "id": "5fUGq1hfB6p9",
        "outputId": "6ad4cc85-4138-47c4-f7ea-943fa7fc3bdf"
      },
      "source": [
        "sns.displot(SHOP_1A[SHOP_1A.shop_voucher_name == 'TESTSV-8%-G1A-T2'].gmv_usd)\n",
        "plt.axis([110, 320, 0, 100])\n",
        "plt.xlabel('GMV')\n",
        "plt.title('G1A 8% Voucher Distribution', weight='bold')\n",
        "plt.show()"
      ],
      "execution_count": null,
      "outputs": [
        {
          "output_type": "display_data",
          "data": {
            "image/png": "[encoded data removed]",
            "text/plain": [
              "<Figure size 360x360 with 1 Axes>"
            ]
          },
          "metadata": {
            "needs_background": "light"
          }
        }
      ]
    },
    {
      "cell_type": "markdown",
      "metadata": {
        "id": "OK4PjKXrDfJV"
      },
      "source": [
        "#### Group 1B"
      ]
    },
    {
      "cell_type": "code",
      "metadata": {
        "colab": {
          "base_uri": "https://localhost:8080/"
        },
        "id": "AEj9TuNyft_l",
        "outputId": "b29b8e9e-2ca5-4a60-e5fa-9457c6c7c32c"
      },
      "source": [
        "SHOP_1B[SHOP_1B.shop_voucher_name == 'TESTSV-20%-G1B-T1'].gmv_usd.describe()"
      ],
      "execution_count": null,
      "outputs": [
        {
          "output_type": "execute_result",
          "data": {
            "text/plain": [
              "count    2893.000000\n",
              "mean      104.062878\n",
              "std        54.361891\n",
              "min        15.014977\n",
              "25%        70.506663\n",
              "50%        94.676777\n",
              "75%       128.442517\n",
              "max       933.388790\n",
              "Name: gmv_usd, dtype: float64"
            ]
          },
          "metadata": {},
          "execution_count": 71
        }
      ]
    },
    {
      "cell_type": "code",
      "metadata": {
        "colab": {
          "base_uri": "https://localhost:8080/",
          "height": 405
        },
        "id": "_YoQnv6Z0cTa",
        "outputId": "3218ce95-1146-4011-a279-f12b54d02b4b"
      },
      "source": [
        "sns.displot(SHOP_1B[SHOP_1B.shop_voucher_name == 'TESTSV-20%-G1B-T1'].gmv_usd)\n",
        "plt.axis([25, 230, 0, 250])\n",
        "plt.xlabel('GMV')\n",
        "plt.title('G1B 20% Voucher Distribution', weight='bold')\n",
        "plt.show()"
      ],
      "execution_count": null,
      "outputs": [
        {
          "output_type": "display_data",
          "data": {
            "image/png": "[encoded data removed]",
            "text/plain": [
              "<Figure size 360x360 with 1 Axes>"
            ]
          },
          "metadata": {
            "needs_background": "light"
          }
        }
      ]
    },
    {
      "cell_type": "code",
      "metadata": {
        "colab": {
          "base_uri": "https://localhost:8080/"
        },
        "id": "QOOW3lD6idur",
        "outputId": "36f7d7a3-a58c-4a85-a7dd-3a4faa73d840"
      },
      "source": [
        "SHOP_1B[SHOP_1B.shop_voucher_name == 'TESTSV-10%-G1B-T2'].gmv_usd.describe()"
      ],
      "execution_count": null,
      "outputs": [
        {
          "output_type": "execute_result",
          "data": {
            "text/plain": [
              "count     510.000000\n",
              "mean      211.029864\n",
              "std        83.566572\n",
              "min         5.962500\n",
              "25%       175.968022\n",
              "50%       200.364448\n",
              "75%       231.731282\n",
              "max      1363.471982\n",
              "Name: gmv_usd, dtype: float64"
            ]
          },
          "metadata": {},
          "execution_count": 73
        }
      ]
    },
    {
      "cell_type": "code",
      "metadata": {
        "colab": {
          "base_uri": "https://localhost:8080/",
          "height": 405
        },
        "id": "HwJ4iZf4zQgz",
        "outputId": "d63b46e3-dfdf-4b2c-99bc-7f7d483c9527"
      },
      "source": [
        "sns.displot(SHOP_1B[SHOP_1B.shop_voucher_name == 'TESTSV-10%-G1B-T2'].gmv_usd)\n",
        "plt.axis([100, 400, 0, 100])\n",
        "plt.xlabel('GMV')\n",
        "plt.title('G1B 10% Voucher Distribution', weight='bold')\n",
        "plt.show()"
      ],
      "execution_count": null,
      "outputs": [
        {
          "output_type": "display_data",
          "data": {
            "image/png": "[encoded data removed]",
            "text/plain": [
              "<Figure size 360x360 with 1 Axes>"
            ]
          },
          "metadata": {
            "needs_background": "light"
          }
        }
      ]
    },
    {
      "cell_type": "markdown",
      "metadata": {
        "id": "6GVw6igQzLYK"
      },
      "source": [
        "## Group Logic"
      ]
    },
    {
      "cell_type": "markdown",
      "metadata": {
        "id": "uasfH8imHCeC"
      },
      "source": [
        "* Groups are being divided based on the total GMVs of the shops\n",
        "    * Group 1 includes shops with generally low GMV.\n",
        "    * Group 2 includes shops with generally medium level GMV.\n",
        "    * Group 3 includes shops with high GMV."
      ]
    },
    {
      "cell_type": "markdown",
      "metadata": {
        "id": "xGb3_55izcPz"
      },
      "source": [
        "### Group 1"
      ]
    },
    {
      "cell_type": "markdown",
      "metadata": {
        "id": "_LjOVicxKkcM"
      },
      "source": [
        "#### Total GMV"
      ]
    },
    {
      "cell_type": "code",
      "metadata": {
        "colab": {
          "base_uri": "https://localhost:8080/",
          "height": 313
        },
        "id": "DlObxw80ohs-",
        "outputId": "2d3b24fb-faaa-460d-af4e-f14f7e89d8a3"
      },
      "source": [
        "SHOP_1A.groupby('shopid').agg({'gmv_usd':'sum'}).describe()"
      ],
      "execution_count": null,
      "outputs": [
        {
          "output_type": "execute_result",
          "data": {
            "text/html": [
              "<div>\n",
              "<style scoped>\n",
              "    .dataframe tbody tr th:only-of-type {\n",
              "        vertical-align: middle;\n",
              "    }\n",
              "\n",
              "    .dataframe tbody tr th {\n",
              "        vertical-align: top;\n",
              "    }\n",
              "\n",
              "    .dataframe thead th {\n",
              "        text-align: right;\n",
              "    }\n",
              "</style>\n",
              "<table border=\"1\" class=\"dataframe\">\n",
              "  <thead>\n",
              "    <tr style=\"text-align: right;\">\n",
              "      <th></th>\n",
              "      <th>gmv_usd</th>\n",
              "    </tr>\n",
              "  </thead>\n",
              "  <tbody>\n",
              "    <tr>\n",
              "      <th>count</th>\n",
              "      <td>1570.000000</td>\n",
              "    </tr>\n",
              "    <tr>\n",
              "      <th>mean</th>\n",
              "      <td>468.317866</td>\n",
              "    </tr>\n",
              "    <tr>\n",
              "      <th>std</th>\n",
              "      <td>662.568356</td>\n",
              "    </tr>\n",
              "    <tr>\n",
              "      <th>min</th>\n",
              "      <td>15.014977</td>\n",
              "    </tr>\n",
              "    <tr>\n",
              "      <th>25%</th>\n",
              "      <td>126.134135</td>\n",
              "    </tr>\n",
              "    <tr>\n",
              "      <th>50%</th>\n",
              "      <td>256.646586</td>\n",
              "    </tr>\n",
              "    <tr>\n",
              "      <th>75%</th>\n",
              "      <td>520.161164</td>\n",
              "    </tr>\n",
              "    <tr>\n",
              "      <th>max</th>\n",
              "      <td>8726.686791</td>\n",
              "    </tr>\n",
              "  </tbody>\n",
              "</table>\n",
              "</div>"
            ],
            "text/plain": [
              "           gmv_usd\n",
              "count  1570.000000\n",
              "mean    468.317866\n",
              "std     662.568356\n",
              "min      15.014977\n",
              "25%     126.134135\n",
              "50%     256.646586\n",
              "75%     520.161164\n",
              "max    8726.686791"
            ]
          },
          "metadata": {},
          "execution_count": 75
        }
      ]
    },
    {
      "cell_type": "code",
      "metadata": {
        "colab": {
          "base_uri": "https://localhost:8080/",
          "height": 406
        },
        "id": "bslmXHsGqKRJ",
        "outputId": "39d35ac0-e981-47e7-b3a4-b1b91cdd3bf0"
      },
      "source": [
        "sns.displot(SHOP_1A.groupby('shopid').agg({'gmv_usd':'sum'}).rename(columns={'gmv_usd':'GMV'}))\n",
        "plt.axis([0, 1500, 0, 330])\n",
        "plt.title('Group 1A GMV Distribution', weight='bold')\n",
        "plt.show()"
      ],
      "execution_count": null,
      "outputs": [
        {
          "output_type": "display_data",
          "data": {
            "image/png": "[encoded data removed]",
            "text/plain": [
              "<Figure size 419.25x360 with 1 Axes>"
            ]
          },
          "metadata": {
            "needs_background": "light"
          }
        }
      ]
    },
    {
      "cell_type": "code",
      "metadata": {
        "colab": {
          "base_uri": "https://localhost:8080/",
          "height": 313
        },
        "id": "wTzA5uIHp5D8",
        "outputId": "04d1d14a-43c0-415e-b0e0-503cc9a411ca"
      },
      "source": [
        "SHOP_1B.groupby('shopid').agg({'gmv_usd':'sum'}).describe().rename(columns={'gmv_usd':'GMV'})"
      ],
      "execution_count": null,
      "outputs": [
        {
          "output_type": "execute_result",
          "data": {
            "text/html": [
              "<div>\n",
              "<style scoped>\n",
              "    .dataframe tbody tr th:only-of-type {\n",
              "        vertical-align: middle;\n",
              "    }\n",
              "\n",
              "    .dataframe tbody tr th {\n",
              "        vertical-align: top;\n",
              "    }\n",
              "\n",
              "    .dataframe thead th {\n",
              "        text-align: right;\n",
              "    }\n",
              "</style>\n",
              "<table border=\"1\" class=\"dataframe\">\n",
              "  <thead>\n",
              "    <tr style=\"text-align: right;\">\n",
              "      <th></th>\n",
              "      <th>GMV</th>\n",
              "    </tr>\n",
              "  </thead>\n",
              "  <tbody>\n",
              "    <tr>\n",
              "      <th>count</th>\n",
              "      <td>1556.000000</td>\n",
              "    </tr>\n",
              "    <tr>\n",
              "      <th>mean</th>\n",
              "      <td>493.021986</td>\n",
              "    </tr>\n",
              "    <tr>\n",
              "      <th>std</th>\n",
              "      <td>759.099178</td>\n",
              "    </tr>\n",
              "    <tr>\n",
              "      <th>min</th>\n",
              "      <td>26.602148</td>\n",
              "    </tr>\n",
              "    <tr>\n",
              "      <th>25%</th>\n",
              "      <td>134.688726</td>\n",
              "    </tr>\n",
              "    <tr>\n",
              "      <th>50%</th>\n",
              "      <td>260.907318</td>\n",
              "    </tr>\n",
              "    <tr>\n",
              "      <th>75%</th>\n",
              "      <td>540.010359</td>\n",
              "    </tr>\n",
              "    <tr>\n",
              "      <th>max</th>\n",
              "      <td>9163.269077</td>\n",
              "    </tr>\n",
              "  </tbody>\n",
              "</table>\n",
              "</div>"
            ],
            "text/plain": [
              "               GMV\n",
              "count  1556.000000\n",
              "mean    493.021986\n",
              "std     759.099178\n",
              "min      26.602148\n",
              "25%     134.688726\n",
              "50%     260.907318\n",
              "75%     540.010359\n",
              "max    9163.269077"
            ]
          },
          "metadata": {},
          "execution_count": 77
        }
      ]
    },
    {
      "cell_type": "code",
      "metadata": {
        "colab": {
          "base_uri": "https://localhost:8080/",
          "height": 420
        },
        "id": "hTozft2QqRlr",
        "outputId": "eddf4742-8fd1-4b60-dbf0-e618f332cc7e"
      },
      "source": [
        "sns.displot(SHOP_1B.groupby('shopid').agg({'gmv_usd':'sum'}).rename(columns={'gmv_usd':'GMV'}))\n",
        "plt.axis([0, 1500, 0, 300])\n",
        "plt.title('Group 1B GMV Distribution', weight='bold')\n",
        "plt.xlabel('GMV')\n",
        "plt.show()"
      ],
      "execution_count": null,
      "outputs": [
        {
          "output_type": "display_data",
          "data": {
            "image/png": "[encoded data removed]",
            "text/plain": [
              "<Figure size 419.25x360 with 1 Axes>"
            ]
          },
          "metadata": {
            "needs_background": "light"
          }
        }
      ]
    },
    {
      "cell_type": "markdown",
      "metadata": {
        "id": "IHKPoN0CzhUc"
      },
      "source": [
        "### Group 2"
      ]
    },
    {
      "cell_type": "markdown",
      "metadata": {
        "id": "Wc-Ye6bNLz0e"
      },
      "source": [
        "#### Total GMV"
      ]
    },
    {
      "cell_type": "code",
      "metadata": {
        "colab": {
          "base_uri": "https://localhost:8080/",
          "height": 313
        },
        "id": "iBEANT1YpIhe",
        "outputId": "4334c95f-2fd4-4c60-abea-9f63e799ab7b"
      },
      "source": [
        "SHOP_2A.groupby('shopid').agg({'gmv_usd':'sum'}).describe()"
      ],
      "execution_count": null,
      "outputs": [
        {
          "output_type": "execute_result",
          "data": {
            "text/html": [
              "<div>\n",
              "<style scoped>\n",
              "    .dataframe tbody tr th:only-of-type {\n",
              "        vertical-align: middle;\n",
              "    }\n",
              "\n",
              "    .dataframe tbody tr th {\n",
              "        vertical-align: top;\n",
              "    }\n",
              "\n",
              "    .dataframe thead th {\n",
              "        text-align: right;\n",
              "    }\n",
              "</style>\n",
              "<table border=\"1\" class=\"dataframe\">\n",
              "  <thead>\n",
              "    <tr style=\"text-align: right;\">\n",
              "      <th></th>\n",
              "      <th>gmv_usd</th>\n",
              "    </tr>\n",
              "  </thead>\n",
              "  <tbody>\n",
              "    <tr>\n",
              "      <th>count</th>\n",
              "      <td>2908.000000</td>\n",
              "    </tr>\n",
              "    <tr>\n",
              "      <th>mean</th>\n",
              "      <td>1096.446824</td>\n",
              "    </tr>\n",
              "    <tr>\n",
              "      <th>std</th>\n",
              "      <td>2318.253627</td>\n",
              "    </tr>\n",
              "    <tr>\n",
              "      <th>min</th>\n",
              "      <td>37.646170</td>\n",
              "    </tr>\n",
              "    <tr>\n",
              "      <th>25%</th>\n",
              "      <td>216.251546</td>\n",
              "    </tr>\n",
              "    <tr>\n",
              "      <th>50%</th>\n",
              "      <td>495.309081</td>\n",
              "    </tr>\n",
              "    <tr>\n",
              "      <th>75%</th>\n",
              "      <td>1192.894613</td>\n",
              "    </tr>\n",
              "    <tr>\n",
              "      <th>max</th>\n",
              "      <td>70236.313758</td>\n",
              "    </tr>\n",
              "  </tbody>\n",
              "</table>\n",
              "</div>"
            ],
            "text/plain": [
              "            gmv_usd\n",
              "count   2908.000000\n",
              "mean    1096.446824\n",
              "std     2318.253627\n",
              "min       37.646170\n",
              "25%      216.251546\n",
              "50%      495.309081\n",
              "75%     1192.894613\n",
              "max    70236.313758"
            ]
          },
          "metadata": {},
          "execution_count": 79
        }
      ]
    },
    {
      "cell_type": "code",
      "metadata": {
        "colab": {
          "base_uri": "https://localhost:8080/",
          "height": 420
        },
        "id": "H5GRvU96qei9",
        "outputId": "0b35fe84-bc86-4a3e-dd43-4ca413b921b9"
      },
      "source": [
        "sns.displot(SHOP_2A.groupby('shopid').agg({'gmv_usd':'sum'}).rename(columns={'gmv_usd':'GMV'}))\n",
        "plt.axis([0, 3500, 0, 600])\n",
        "plt.title('Group 2A GMV Distribution', weight='bold')\n",
        "plt.xlabel('GMV')\n",
        "plt.show()"
      ],
      "execution_count": null,
      "outputs": [
        {
          "output_type": "display_data",
          "data": {
            "image/png": "[encoded data removed]",
            "text/plain": [
              "<Figure size 419.25x360 with 1 Axes>"
            ]
          },
          "metadata": {
            "needs_background": "light"
          }
        }
      ]
    },
    {
      "cell_type": "code",
      "metadata": {
        "colab": {
          "base_uri": "https://localhost:8080/",
          "height": 313
        },
        "id": "x8fUzONppzBt",
        "outputId": "c4ad8925-237c-408e-9e2c-92442338c3bf"
      },
      "source": [
        "SHOP_2B.groupby('shopid').agg({'gmv_usd':'sum'}).describe()"
      ],
      "execution_count": null,
      "outputs": [
        {
          "output_type": "execute_result",
          "data": {
            "text/html": [
              "<div>\n",
              "<style scoped>\n",
              "    .dataframe tbody tr th:only-of-type {\n",
              "        vertical-align: middle;\n",
              "    }\n",
              "\n",
              "    .dataframe tbody tr th {\n",
              "        vertical-align: top;\n",
              "    }\n",
              "\n",
              "    .dataframe thead th {\n",
              "        text-align: right;\n",
              "    }\n",
              "</style>\n",
              "<table border=\"1\" class=\"dataframe\">\n",
              "  <thead>\n",
              "    <tr style=\"text-align: right;\">\n",
              "      <th></th>\n",
              "      <th>gmv_usd</th>\n",
              "    </tr>\n",
              "  </thead>\n",
              "  <tbody>\n",
              "    <tr>\n",
              "      <th>count</th>\n",
              "      <td>2961.000000</td>\n",
              "    </tr>\n",
              "    <tr>\n",
              "      <th>mean</th>\n",
              "      <td>1139.117466</td>\n",
              "    </tr>\n",
              "    <tr>\n",
              "      <th>std</th>\n",
              "      <td>2953.855340</td>\n",
              "    </tr>\n",
              "    <tr>\n",
              "      <th>min</th>\n",
              "      <td>40.090339</td>\n",
              "    </tr>\n",
              "    <tr>\n",
              "      <th>25%</th>\n",
              "      <td>230.916559</td>\n",
              "    </tr>\n",
              "    <tr>\n",
              "      <th>50%</th>\n",
              "      <td>507.288688</td>\n",
              "    </tr>\n",
              "    <tr>\n",
              "      <th>75%</th>\n",
              "      <td>1157.039097</td>\n",
              "    </tr>\n",
              "    <tr>\n",
              "      <th>max</th>\n",
              "      <td>122631.329065</td>\n",
              "    </tr>\n",
              "  </tbody>\n",
              "</table>\n",
              "</div>"
            ],
            "text/plain": [
              "             gmv_usd\n",
              "count    2961.000000\n",
              "mean     1139.117466\n",
              "std      2953.855340\n",
              "min        40.090339\n",
              "25%       230.916559\n",
              "50%       507.288688\n",
              "75%      1157.039097\n",
              "max    122631.329065"
            ]
          },
          "metadata": {},
          "execution_count": 81
        }
      ]
    },
    {
      "cell_type": "code",
      "metadata": {
        "colab": {
          "base_uri": "https://localhost:8080/",
          "height": 420
        },
        "id": "ph-Zu6AhqqS6",
        "outputId": "4091ec66-4ae8-4a40-ce41-311535bba842"
      },
      "source": [
        "sns.displot(SHOP_2B.groupby('shopid').agg({'gmv_usd':'sum'}).rename(columns={'gmv_usd':'GMV'}))\n",
        "plt.axis([0, 3500, 0, 550])\n",
        "plt.title('Group 2B GMV Distribution', weight='bold')\n",
        "plt.xlabel('GMV')\n",
        "plt.show()"
      ],
      "execution_count": null,
      "outputs": [
        {
          "output_type": "display_data",
          "data": {
            "image/png": "[encoded data removed]",
            "text/plain": [
              "<Figure size 419.25x360 with 1 Axes>"
            ]
          },
          "metadata": {
            "needs_background": "light"
          }
        }
      ]
    },
    {
      "cell_type": "markdown",
      "metadata": {
        "id": "aWQE5flkzknW"
      },
      "source": [
        "### Group 3"
      ]
    },
    {
      "cell_type": "markdown",
      "metadata": {
        "id": "wFmzYaDgN8fA"
      },
      "source": [
        "#### Total GMV"
      ]
    },
    {
      "cell_type": "code",
      "metadata": {
        "colab": {
          "base_uri": "https://localhost:8080/",
          "height": 313
        },
        "id": "4EWLFs2OpPUE",
        "outputId": "9de6a136-0ab1-45c7-b991-6fc915135d6a"
      },
      "source": [
        "SHOP_3A.groupby('shopid').agg({'gmv_usd':'sum'}).describe()"
      ],
      "execution_count": null,
      "outputs": [
        {
          "output_type": "execute_result",
          "data": {
            "text/html": [
              "<div>\n",
              "<style scoped>\n",
              "    .dataframe tbody tr th:only-of-type {\n",
              "        vertical-align: middle;\n",
              "    }\n",
              "\n",
              "    .dataframe tbody tr th {\n",
              "        vertical-align: top;\n",
              "    }\n",
              "\n",
              "    .dataframe thead th {\n",
              "        text-align: right;\n",
              "    }\n",
              "</style>\n",
              "<table border=\"1\" class=\"dataframe\">\n",
              "  <thead>\n",
              "    <tr style=\"text-align: right;\">\n",
              "      <th></th>\n",
              "      <th>gmv_usd</th>\n",
              "    </tr>\n",
              "  </thead>\n",
              "  <tbody>\n",
              "    <tr>\n",
              "      <th>count</th>\n",
              "      <td>1521.000000</td>\n",
              "    </tr>\n",
              "    <tr>\n",
              "      <th>mean</th>\n",
              "      <td>1755.471214</td>\n",
              "    </tr>\n",
              "    <tr>\n",
              "      <th>std</th>\n",
              "      <td>4257.984800</td>\n",
              "    </tr>\n",
              "    <tr>\n",
              "      <th>min</th>\n",
              "      <td>17.097047</td>\n",
              "    </tr>\n",
              "    <tr>\n",
              "      <th>25%</th>\n",
              "      <td>330.765382</td>\n",
              "    </tr>\n",
              "    <tr>\n",
              "      <th>50%</th>\n",
              "      <td>754.228131</td>\n",
              "    </tr>\n",
              "    <tr>\n",
              "      <th>75%</th>\n",
              "      <td>1861.581264</td>\n",
              "    </tr>\n",
              "    <tr>\n",
              "      <th>max</th>\n",
              "      <td>115318.087830</td>\n",
              "    </tr>\n",
              "  </tbody>\n",
              "</table>\n",
              "</div>"
            ],
            "text/plain": [
              "             gmv_usd\n",
              "count    1521.000000\n",
              "mean     1755.471214\n",
              "std      4257.984800\n",
              "min        17.097047\n",
              "25%       330.765382\n",
              "50%       754.228131\n",
              "75%      1861.581264\n",
              "max    115318.087830"
            ]
          },
          "metadata": {},
          "execution_count": 83
        }
      ]
    },
    {
      "cell_type": "code",
      "metadata": {
        "colab": {
          "base_uri": "https://localhost:8080/",
          "height": 420
        },
        "id": "y27hxF0Xq2np",
        "outputId": "6bdaed0b-c3b7-42c5-a4a0-4ccc77b57cd6"
      },
      "source": [
        "sns.displot(SHOP_3A.groupby('shopid').agg({'gmv_usd':'sum'}).rename(columns={'gmv_usd':'GMV'}))\n",
        "plt.axis([0, 4000, 0, 350])\n",
        "plt.title('Group 3A GMV Distribution', weight='bold')\n",
        "plt.xlabel('GMV')\n",
        "plt.show()"
      ],
      "execution_count": null,
      "outputs": [
        {
          "output_type": "display_data",
          "data": {
            "image/png": "[encoded data removed]",
            "text/plain": [
              "<Figure size 419.25x360 with 1 Axes>"
            ]
          },
          "metadata": {
            "needs_background": "light"
          }
        }
      ]
    },
    {
      "cell_type": "code",
      "metadata": {
        "colab": {
          "base_uri": "https://localhost:8080/",
          "height": 313
        },
        "id": "MtkWGm6vq9NC",
        "outputId": "f011b959-a497-4d5e-f54b-2e72cd6d8a5b"
      },
      "source": [
        "SHOP_3B.groupby('shopid').agg({'gmv_usd':'sum'}).describe()"
      ],
      "execution_count": null,
      "outputs": [
        {
          "output_type": "execute_result",
          "data": {
            "text/html": [
              "<div>\n",
              "<style scoped>\n",
              "    .dataframe tbody tr th:only-of-type {\n",
              "        vertical-align: middle;\n",
              "    }\n",
              "\n",
              "    .dataframe tbody tr th {\n",
              "        vertical-align: top;\n",
              "    }\n",
              "\n",
              "    .dataframe thead th {\n",
              "        text-align: right;\n",
              "    }\n",
              "</style>\n",
              "<table border=\"1\" class=\"dataframe\">\n",
              "  <thead>\n",
              "    <tr style=\"text-align: right;\">\n",
              "      <th></th>\n",
              "      <th>gmv_usd</th>\n",
              "    </tr>\n",
              "  </thead>\n",
              "  <tbody>\n",
              "    <tr>\n",
              "      <th>count</th>\n",
              "      <td>1554.000000</td>\n",
              "    </tr>\n",
              "    <tr>\n",
              "      <th>mean</th>\n",
              "      <td>1690.481840</td>\n",
              "    </tr>\n",
              "    <tr>\n",
              "      <th>std</th>\n",
              "      <td>2937.342179</td>\n",
              "    </tr>\n",
              "    <tr>\n",
              "      <th>min</th>\n",
              "      <td>43.982904</td>\n",
              "    </tr>\n",
              "    <tr>\n",
              "      <th>25%</th>\n",
              "      <td>316.485100</td>\n",
              "    </tr>\n",
              "    <tr>\n",
              "      <th>50%</th>\n",
              "      <td>744.366999</td>\n",
              "    </tr>\n",
              "    <tr>\n",
              "      <th>75%</th>\n",
              "      <td>1739.498112</td>\n",
              "    </tr>\n",
              "    <tr>\n",
              "      <th>max</th>\n",
              "      <td>26595.240997</td>\n",
              "    </tr>\n",
              "  </tbody>\n",
              "</table>\n",
              "</div>"
            ],
            "text/plain": [
              "            gmv_usd\n",
              "count   1554.000000\n",
              "mean    1690.481840\n",
              "std     2937.342179\n",
              "min       43.982904\n",
              "25%      316.485100\n",
              "50%      744.366999\n",
              "75%     1739.498112\n",
              "max    26595.240997"
            ]
          },
          "metadata": {},
          "execution_count": 85
        }
      ]
    },
    {
      "cell_type": "code",
      "metadata": {
        "colab": {
          "base_uri": "https://localhost:8080/",
          "height": 420
        },
        "id": "bDqGtWLArCxo",
        "outputId": "4bd768a9-63f9-466d-f86c-cc5be1af6442"
      },
      "source": [
        "sns.displot(SHOP_3B.groupby('shopid').agg({'gmv_usd':'sum'}).rename(columns={'gmv_usd':'GMV'}))\n",
        "plt.axis([0, 5000, 0, 400])\n",
        "plt.title('Group 3B GMV Distribution', weight='bold')\n",
        "plt.xlabel('GMV')\n",
        "plt.show()"
      ],
      "execution_count": null,
      "outputs": [
        {
          "output_type": "display_data",
          "data": {
            "image/png": "[encoded data removed]",
            "text/plain": [
              "<Figure size 419.25x360 with 1 Axes>"
            ]
          },
          "metadata": {
            "needs_background": "light"
          }
        }
      ]
    },
    {
      "cell_type": "markdown",
      "metadata": {
        "id": "gOJzIyXCzpbe"
      },
      "source": [
        "### Group GMV Comparison"
      ]
    },
    {
      "cell_type": "code",
      "metadata": {
        "id": "FbDwRQ_uyXjv"
      },
      "source": [
        "gmv_1A = SHOP_1A.groupby('shopid').agg({'gmv_usd':'sum'}).describe().rename(columns={'gmv_usd':'GMV 1A'})\n",
        "gmv_2A = SHOP_2A.groupby('shopid').agg({'gmv_usd':'sum'}).describe().rename(columns={'gmv_usd':'GMV 2A'})\n",
        "gmv_3A = SHOP_3A.groupby('shopid').agg({'gmv_usd':'sum'}).describe().rename(columns={'gmv_usd':'GMV 3A'})\n",
        "df_gmv = pd.concat([gmv_1A, gmv_2A, gmv_3A], axis=1)"
      ],
      "execution_count": null,
      "outputs": []
    },
    {
      "cell_type": "code",
      "metadata": {
        "colab": {
          "base_uri": "https://localhost:8080/",
          "height": 313
        },
        "id": "8Wxcl4j0y375",
        "outputId": "4a50ef37-21bb-4dfa-e69e-6f9e92e290fb"
      },
      "source": [
        "df_gmv "
      ],
      "execution_count": null,
      "outputs": [
        {
          "output_type": "execute_result",
          "data": {
            "text/html": [
              "<div>\n",
              "<style scoped>\n",
              "    .dataframe tbody tr th:only-of-type {\n",
              "        vertical-align: middle;\n",
              "    }\n",
              "\n",
              "    .dataframe tbody tr th {\n",
              "        vertical-align: top;\n",
              "    }\n",
              "\n",
              "    .dataframe thead th {\n",
              "        text-align: right;\n",
              "    }\n",
              "</style>\n",
              "<table border=\"1\" class=\"dataframe\">\n",
              "  <thead>\n",
              "    <tr style=\"text-align: right;\">\n",
              "      <th></th>\n",
              "      <th>GMV 1A</th>\n",
              "      <th>GMV 2A</th>\n",
              "      <th>GMV 3A</th>\n",
              "    </tr>\n",
              "  </thead>\n",
              "  <tbody>\n",
              "    <tr>\n",
              "      <th>count</th>\n",
              "      <td>1570.000000</td>\n",
              "      <td>2908.000000</td>\n",
              "      <td>1521.000000</td>\n",
              "    </tr>\n",
              "    <tr>\n",
              "      <th>mean</th>\n",
              "      <td>468.317866</td>\n",
              "      <td>1096.446824</td>\n",
              "      <td>1755.471214</td>\n",
              "    </tr>\n",
              "    <tr>\n",
              "      <th>std</th>\n",
              "      <td>662.568356</td>\n",
              "      <td>2318.253627</td>\n",
              "      <td>4257.984800</td>\n",
              "    </tr>\n",
              "    <tr>\n",
              "      <th>min</th>\n",
              "      <td>15.014977</td>\n",
              "      <td>37.646170</td>\n",
              "      <td>17.097047</td>\n",
              "    </tr>\n",
              "    <tr>\n",
              "      <th>25%</th>\n",
              "      <td>126.134135</td>\n",
              "      <td>216.251546</td>\n",
              "      <td>330.765382</td>\n",
              "    </tr>\n",
              "    <tr>\n",
              "      <th>50%</th>\n",
              "      <td>256.646586</td>\n",
              "      <td>495.309081</td>\n",
              "      <td>754.228131</td>\n",
              "    </tr>\n",
              "    <tr>\n",
              "      <th>75%</th>\n",
              "      <td>520.161164</td>\n",
              "      <td>1192.894613</td>\n",
              "      <td>1861.581264</td>\n",
              "    </tr>\n",
              "    <tr>\n",
              "      <th>max</th>\n",
              "      <td>8726.686791</td>\n",
              "      <td>70236.313758</td>\n",
              "      <td>115318.087830</td>\n",
              "    </tr>\n",
              "  </tbody>\n",
              "</table>\n",
              "</div>"
            ],
            "text/plain": [
              "            GMV 1A        GMV 2A         GMV 3A\n",
              "count  1570.000000   2908.000000    1521.000000\n",
              "mean    468.317866   1096.446824    1755.471214\n",
              "std     662.568356   2318.253627    4257.984800\n",
              "min      15.014977     37.646170      17.097047\n",
              "25%     126.134135    216.251546     330.765382\n",
              "50%     256.646586    495.309081     754.228131\n",
              "75%     520.161164   1192.894613    1861.581264\n",
              "max    8726.686791  70236.313758  115318.087830"
            ]
          },
          "metadata": {},
          "execution_count": 88
        }
      ]
    },
    {
      "cell_type": "markdown",
      "metadata": {
        "id": "fllSfanuG7pG"
      },
      "source": [
        "## AB Test for Each Group"
      ]
    },
    {
      "cell_type": "markdown",
      "metadata": {
        "id": "Avn_aBR7PJD-"
      },
      "source": [
        "### Group 1"
      ]
    },
    {
      "cell_type": "markdown",
      "metadata": {
        "id": "7PuLf_vB5GCq"
      },
      "source": [
        "Hypothesis Testing: \\\n",
        "**NULL:**\n",
        "$$\\mu_1 - \\mu_2 = 0$$\n",
        "**Alternatives:**\n",
        "$$ \\mu_2 \\neq \\mu_1 $$\n",
        "$$ \\mu_2 > \\mu_1$$\n",
        "$$ \\mu_2 < \\mu_1 $$"
      ]
    },
    {
      "cell_type": "markdown",
      "metadata": {
        "id": "Nm2m1TB5RsBn"
      },
      "source": [
        "Get Mean of each group"
      ]
    },
    {
      "cell_type": "markdown",
      "metadata": {
        "id": "_ZZLNjgDk5KM"
      },
      "source": [
        "#### Group "
      ]
    },
    {
      "cell_type": "code",
      "metadata": {
        "id": "9V6Xa-MxRThX"
      },
      "source": [
        "x1 = SHOP_1A.gmv_usd.mean()\n",
        "x2 = SHOP_1B.gmv_usd.mean()"
      ],
      "execution_count": null,
      "outputs": []
    },
    {
      "cell_type": "markdown",
      "metadata": {
        "id": "WVH8jkQwRz3S"
      },
      "source": [
        "Find z Statistic"
      ]
    },
    {
      "cell_type": "code",
      "metadata": {
        "id": "4i6llPt0RcV_"
      },
      "source": [
        "n1 = len(SHOP_1A.gmv_usd)\n",
        "n2 = len(SHOP_1B.gmv_usd)\n",
        "v1 = SHOP_1A.gmv_usd.var()\n",
        "v2 = SHOP_1B.gmv_usd.var()"
      ],
      "execution_count": null,
      "outputs": []
    },
    {
      "cell_type": "code",
      "metadata": {
        "id": "bsl-SU6oTLGq"
      },
      "source": [
        "z = (x1 - x2) / ((v1/n1) + (v2/n2))**(1/2)"
      ],
      "execution_count": null,
      "outputs": []
    },
    {
      "cell_type": "code",
      "metadata": {
        "colab": {
          "base_uri": "https://localhost:8080/"
        },
        "id": "ADybH0RkTVL6",
        "outputId": "8459db45-53ff-452a-ef21-2fd2f37d667b"
      },
      "source": [
        "z"
      ],
      "execution_count": null,
      "outputs": [
        {
          "output_type": "execute_result",
          "data": {
            "text/plain": [
              "-0.056079823159194596"
            ]
          },
          "metadata": {},
          "execution_count": 92
        }
      ]
    },
    {
      "cell_type": "code",
      "metadata": {
        "colab": {
          "base_uri": "https://localhost:8080/",
          "height": 130
        },
        "id": "01aORG9kZQSn",
        "outputId": "5344e282-5f47-4602-cf73-9d32bc4ab11b"
      },
      "source": [
        "pd.DataFrame({'mean' : [x1, x2], 'Size': [n1, n2], 'Variance': [v1, v2]}, index=['Group 1A', 'Group 1B'])"
      ],
      "execution_count": null,
      "outputs": [
        {
          "output_type": "execute_result",
          "data": {
            "text/html": [
              "<div>\n",
              "<style scoped>\n",
              "    .dataframe tbody tr th:only-of-type {\n",
              "        vertical-align: middle;\n",
              "    }\n",
              "\n",
              "    .dataframe tbody tr th {\n",
              "        vertical-align: top;\n",
              "    }\n",
              "\n",
              "    .dataframe thead th {\n",
              "        text-align: right;\n",
              "    }\n",
              "</style>\n",
              "<table border=\"1\" class=\"dataframe\">\n",
              "  <thead>\n",
              "    <tr style=\"text-align: right;\">\n",
              "      <th></th>\n",
              "      <th>mean</th>\n",
              "      <th>Size</th>\n",
              "      <th>Variance</th>\n",
              "    </tr>\n",
              "  </thead>\n",
              "  <tbody>\n",
              "    <tr>\n",
              "      <th>Group 1A</th>\n",
              "      <td>136.919749</td>\n",
              "      <td>5370</td>\n",
              "      <td>26464.034888</td>\n",
              "    </tr>\n",
              "    <tr>\n",
              "      <th>Group 1B</th>\n",
              "      <td>137.087600</td>\n",
              "      <td>5596</td>\n",
              "      <td>22554.182513</td>\n",
              "    </tr>\n",
              "  </tbody>\n",
              "</table>\n",
              "</div>"
            ],
            "text/plain": [
              "                mean  Size      Variance\n",
              "Group 1A  136.919749  5370  26464.034888\n",
              "Group 1B  137.087600  5596  22554.182513"
            ]
          },
          "metadata": {},
          "execution_count": 93
        }
      ]
    },
    {
      "cell_type": "markdown",
      "metadata": {
        "id": "OQ_IQChck4jy"
      },
      "source": [
        "#### G1 T1"
      ]
    },
    {
      "cell_type": "code",
      "metadata": {
        "id": "JN4yen9qk8ci"
      },
      "source": [
        "T1_1A = SHOP_1A[SHOP_1A.shop_voucher_name == 'TESTSV-18%-G1A-T1'].gmv_usd\n",
        "T1_1B = SHOP_1B[SHOP_1B.shop_voucher_name == 'TESTSV-20%-G1B-T1'].gmv_usd"
      ],
      "execution_count": null,
      "outputs": []
    },
    {
      "cell_type": "code",
      "metadata": {
        "id": "PCeQalY1lSKo"
      },
      "source": [
        "x1_t1 = T1_1A.mean()\n",
        "x2_t1 = T1_1B.mean()\n",
        "n1_t1 = len(T1_1A)\n",
        "n2_t1 = len(T1_1B)\n",
        "v1_t1 = T1_1A.var()\n",
        "v2_t1 = T1_1B.var()"
      ],
      "execution_count": null,
      "outputs": []
    },
    {
      "cell_type": "code",
      "metadata": {
        "id": "6tVIkAU-la3l"
      },
      "source": [
        "z = (x1_t1 - x2_t1) / ((v1_t1/n1_t1) + (v2_t1/n2_t1))**(1/2)"
      ],
      "execution_count": null,
      "outputs": []
    },
    {
      "cell_type": "code",
      "metadata": {
        "colab": {
          "base_uri": "https://localhost:8080/"
        },
        "id": "bSafxxVYlb_m",
        "outputId": "b7b8a209-321b-4413-c8a7-0b6af1c8878d"
      },
      "source": [
        "z"
      ],
      "execution_count": null,
      "outputs": [
        {
          "output_type": "execute_result",
          "data": {
            "text/plain": [
              "0.2672767335248561"
            ]
          },
          "metadata": {},
          "execution_count": 97
        }
      ]
    },
    {
      "cell_type": "code",
      "metadata": {
        "colab": {
          "base_uri": "https://localhost:8080/",
          "height": 130
        },
        "id": "griWEt93lhFO",
        "outputId": "4d557b02-a9e4-47ba-b7bc-ca720e278611"
      },
      "source": [
        "pd.DataFrame({'mean' : [x1_t1, x2_t1], 'Size': [n1_t1, n2_t1], 'Variance': [v1_t1, v2_t1]}, index=['Group 1A T1', 'Group 1B T1'])"
      ],
      "execution_count": null,
      "outputs": [
        {
          "output_type": "execute_result",
          "data": {
            "text/html": [
              "<div>\n",
              "<style scoped>\n",
              "    .dataframe tbody tr th:only-of-type {\n",
              "        vertical-align: middle;\n",
              "    }\n",
              "\n",
              "    .dataframe tbody tr th {\n",
              "        vertical-align: top;\n",
              "    }\n",
              "\n",
              "    .dataframe thead th {\n",
              "        text-align: right;\n",
              "    }\n",
              "</style>\n",
              "<table border=\"1\" class=\"dataframe\">\n",
              "  <thead>\n",
              "    <tr style=\"text-align: right;\">\n",
              "      <th></th>\n",
              "      <th>mean</th>\n",
              "      <th>Size</th>\n",
              "      <th>Variance</th>\n",
              "    </tr>\n",
              "  </thead>\n",
              "  <tbody>\n",
              "    <tr>\n",
              "      <th>Group 1A T1</th>\n",
              "      <td>104.520899</td>\n",
              "      <td>2738</td>\n",
              "      <td>5243.600744</td>\n",
              "    </tr>\n",
              "    <tr>\n",
              "      <th>Group 1B T1</th>\n",
              "      <td>104.062878</td>\n",
              "      <td>2893</td>\n",
              "      <td>2955.215221</td>\n",
              "    </tr>\n",
              "  </tbody>\n",
              "</table>\n",
              "</div>"
            ],
            "text/plain": [
              "                   mean  Size     Variance\n",
              "Group 1A T1  104.520899  2738  5243.600744\n",
              "Group 1B T1  104.062878  2893  2955.215221"
            ]
          },
          "metadata": {},
          "execution_count": 98
        }
      ]
    },
    {
      "cell_type": "markdown",
      "metadata": {
        "id": "aKY058drls4t"
      },
      "source": [
        "#### G1 T2"
      ]
    },
    {
      "cell_type": "code",
      "metadata": {
        "id": "mleo1VBKlxgq"
      },
      "source": [
        "T2_1A = SHOP_1A[SHOP_1A.shop_voucher_name == 'TESTSV-8%-G1A-T2'].gmv_usd\n",
        "T2_1B = SHOP_1B[SHOP_1B.shop_voucher_name == 'TESTSV-10%-G1B-T2'].gmv_usd"
      ],
      "execution_count": null,
      "outputs": []
    },
    {
      "cell_type": "code",
      "metadata": {
        "id": "WULX4UBDmUCK"
      },
      "source": [
        "x1_t2 = T2_1A.mean()\n",
        "x2_t2 = T2_1B.mean()\n",
        "n1_t2 = len(T2_1A)\n",
        "n2_t2 = len(T2_1B)\n",
        "v1_t2 = T2_1A.var()\n",
        "v2_t2 = T2_1B.var()"
      ],
      "execution_count": null,
      "outputs": []
    },
    {
      "cell_type": "code",
      "metadata": {
        "id": "I9XfZ8membZX"
      },
      "source": [
        "z = (x1_t2 - x2_t2) / ((v1_t2/n1_t2) + (v2_t2/n2_t2))**(1/2)"
      ],
      "execution_count": null,
      "outputs": []
    },
    {
      "cell_type": "code",
      "metadata": {
        "colab": {
          "base_uri": "https://localhost:8080/"
        },
        "id": "LrzEmVydmoKY",
        "outputId": "20c4f7b7-2114-48bb-ca20-82ddb5e4e414"
      },
      "source": [
        "z"
      ],
      "execution_count": null,
      "outputs": [
        {
          "output_type": "execute_result",
          "data": {
            "text/plain": [
              "0.08230587055084325"
            ]
          },
          "metadata": {},
          "execution_count": 102
        }
      ]
    },
    {
      "cell_type": "code",
      "metadata": {
        "colab": {
          "base_uri": "https://localhost:8080/",
          "height": 130
        },
        "id": "nKVaESWImt0e",
        "outputId": "acfb8910-aaf8-4023-f5b7-58e6855924c1"
      },
      "source": [
        "pd.DataFrame({'mean' : [x1_t2, x2_t2], 'Size': [n1_t2, n2_t2], 'Variance': [v1_t2, v2_t2]}, index=['Group 1A T2', 'Group 1B T2'])"
      ],
      "execution_count": null,
      "outputs": [
        {
          "output_type": "execute_result",
          "data": {
            "text/html": [
              "<div>\n",
              "<style scoped>\n",
              "    .dataframe tbody tr th:only-of-type {\n",
              "        vertical-align: middle;\n",
              "    }\n",
              "\n",
              "    .dataframe tbody tr th {\n",
              "        vertical-align: top;\n",
              "    }\n",
              "\n",
              "    .dataframe thead th {\n",
              "        text-align: right;\n",
              "    }\n",
              "</style>\n",
              "<table border=\"1\" class=\"dataframe\">\n",
              "  <thead>\n",
              "    <tr style=\"text-align: right;\">\n",
              "      <th></th>\n",
              "      <th>mean</th>\n",
              "      <th>Size</th>\n",
              "      <th>Variance</th>\n",
              "    </tr>\n",
              "  </thead>\n",
              "  <tbody>\n",
              "    <tr>\n",
              "      <th>Group 1A T2</th>\n",
              "      <td>211.376879</td>\n",
              "      <td>490</td>\n",
              "      <td>2000.754933</td>\n",
              "    </tr>\n",
              "    <tr>\n",
              "      <th>Group 1B T2</th>\n",
              "      <td>211.029864</td>\n",
              "      <td>510</td>\n",
              "      <td>6983.371899</td>\n",
              "    </tr>\n",
              "  </tbody>\n",
              "</table>\n",
              "</div>"
            ],
            "text/plain": [
              "                   mean  Size     Variance\n",
              "Group 1A T2  211.376879   490  2000.754933\n",
              "Group 1B T2  211.029864   510  6983.371899"
            ]
          },
          "metadata": {},
          "execution_count": 103
        }
      ]
    },
    {
      "cell_type": "markdown",
      "metadata": {
        "id": "sneuJvlI2UfM"
      },
      "source": [
        "### Group 2"
      ]
    },
    {
      "cell_type": "markdown",
      "metadata": {
        "id": "LtpYaO9PZOkf"
      },
      "source": [
        "Hypothesis Testing: \\\n",
        "**NULL:**\n",
        "$$\\mu_1 - \\mu_2 = 0$$\n",
        "**Alternatives:**\n",
        "$$ \\mu_2 \\neq \\mu_1 $$\n",
        "$$ \\mu_2 > \\mu_1$$\n",
        "$$ \\mu_2 < \\mu_1 $$"
      ]
    },
    {
      "cell_type": "markdown",
      "metadata": {
        "id": "xH9R98MEUCLL"
      },
      "source": [
        "Get Mean of Each Group"
      ]
    },
    {
      "cell_type": "markdown",
      "metadata": {
        "id": "E1kuaZQslDd5"
      },
      "source": [
        "#### Group "
      ]
    },
    {
      "cell_type": "code",
      "metadata": {
        "id": "Kjm8u4saUGhs"
      },
      "source": [
        "x1 = SHOP_2A.gmv_usd.mean()\n",
        "x2 = SHOP_2B.gmv_usd.mean()"
      ],
      "execution_count": null,
      "outputs": []
    },
    {
      "cell_type": "code",
      "metadata": {
        "id": "FrzoF-iVUW1_"
      },
      "source": [
        "n1 = len(SHOP_2A.gmv_usd)\n",
        "n2 = len(SHOP_2B.gmv_usd)\n",
        "v1 = SHOP_2A.gmv_usd.var()\n",
        "v2 = SHOP_2B.gmv_usd.var()"
      ],
      "execution_count": null,
      "outputs": []
    },
    {
      "cell_type": "code",
      "metadata": {
        "id": "FGgIkKRmUfme"
      },
      "source": [
        "z = (x1 - x2) / ((v1/n1) + (v2/n2))**(1/2)"
      ],
      "execution_count": null,
      "outputs": []
    },
    {
      "cell_type": "code",
      "metadata": {
        "colab": {
          "base_uri": "https://localhost:8080/"
        },
        "id": "bhKFkIKH29bL",
        "outputId": "1194660f-580c-4139-e791-ba7ffa56a808"
      },
      "source": [
        "z"
      ],
      "execution_count": null,
      "outputs": [
        {
          "output_type": "execute_result",
          "data": {
            "text/plain": [
              "-1.3160301600927318"
            ]
          },
          "metadata": {},
          "execution_count": 107
        }
      ]
    },
    {
      "cell_type": "code",
      "metadata": {
        "colab": {
          "base_uri": "https://localhost:8080/",
          "height": 130
        },
        "id": "GVX9eYfNHnEQ",
        "outputId": "63c9be5e-0f2b-4167-dbec-7fd69fb7ccf3"
      },
      "source": [
        "pd.DataFrame({'mean' : [x1, x2], 'Size': [n1, n2], 'Variance': [v1, v2]}, index=['Group 2A', 'Group 2B'])"
      ],
      "execution_count": null,
      "outputs": [
        {
          "output_type": "execute_result",
          "data": {
            "text/html": [
              "<div>\n",
              "<style scoped>\n",
              "    .dataframe tbody tr th:only-of-type {\n",
              "        vertical-align: middle;\n",
              "    }\n",
              "\n",
              "    .dataframe tbody tr th {\n",
              "        vertical-align: top;\n",
              "    }\n",
              "\n",
              "    .dataframe thead th {\n",
              "        text-align: right;\n",
              "    }\n",
              "</style>\n",
              "<table border=\"1\" class=\"dataframe\">\n",
              "  <thead>\n",
              "    <tr style=\"text-align: right;\">\n",
              "      <th></th>\n",
              "      <th>mean</th>\n",
              "      <th>Size</th>\n",
              "      <th>Variance</th>\n",
              "    </tr>\n",
              "  </thead>\n",
              "  <tbody>\n",
              "    <tr>\n",
              "      <th>Group 2A</th>\n",
              "      <td>219.576294</td>\n",
              "      <td>14521</td>\n",
              "      <td>45619.337624</td>\n",
              "    </tr>\n",
              "    <tr>\n",
              "      <th>Group 2B</th>\n",
              "      <td>222.914997</td>\n",
              "      <td>15131</td>\n",
              "      <td>49849.147524</td>\n",
              "    </tr>\n",
              "  </tbody>\n",
              "</table>\n",
              "</div>"
            ],
            "text/plain": [
              "                mean   Size      Variance\n",
              "Group 2A  219.576294  14521  45619.337624\n",
              "Group 2B  222.914997  15131  49849.147524"
            ]
          },
          "metadata": {},
          "execution_count": 108
        }
      ]
    },
    {
      "cell_type": "markdown",
      "metadata": {
        "id": "fu5tqZhIg0_L"
      },
      "source": [
        "#### G2 T1"
      ]
    },
    {
      "cell_type": "code",
      "metadata": {
        "id": "Tbl7vMNwg6gB"
      },
      "source": [
        "T1_2A = SHOP_2A[SHOP_2A.shop_voucher_name == 'TESTSV-15%-G2A-T1'].gmv_usd\n",
        "T1_2B = SHOP_2B[SHOP_2B.shop_voucher_name == 'TESTSV-20%-G2B-T1'].gmv_usd"
      ],
      "execution_count": null,
      "outputs": []
    },
    {
      "cell_type": "code",
      "metadata": {
        "id": "F4FHVNxahim-"
      },
      "source": [
        "x1_t1 = T1_2A.mean()\n",
        "x2_t1 = T1_2B.mean()\n",
        "n1_t1 = len(T1_2A)\n",
        "n2_t1 = len(T1_2B)\n",
        "v1_t1 = T1_2A.var()\n",
        "v2_t1 = T1_2B.var()"
      ],
      "execution_count": null,
      "outputs": []
    },
    {
      "cell_type": "code",
      "metadata": {
        "id": "UXumXj4bh1mc"
      },
      "source": [
        "z = (x1_t1 - x2_t1) / ((v1_t1/n1_t1) + (v2_t1/n2_t1))**(1/2)"
      ],
      "execution_count": null,
      "outputs": []
    },
    {
      "cell_type": "code",
      "metadata": {
        "colab": {
          "base_uri": "https://localhost:8080/"
        },
        "id": "sqNgw4-Hh2dk",
        "outputId": "166402e7-b5e9-44a0-9510-faa4a0112235"
      },
      "source": [
        "z"
      ],
      "execution_count": null,
      "outputs": [
        {
          "output_type": "execute_result",
          "data": {
            "text/plain": [
              "-0.6090113279140597"
            ]
          },
          "metadata": {},
          "execution_count": 112
        }
      ]
    },
    {
      "cell_type": "code",
      "metadata": {
        "colab": {
          "base_uri": "https://localhost:8080/",
          "height": 130
        },
        "id": "ncgB0--ViC8i",
        "outputId": "83282789-a3c9-4cf4-b8b3-81e5828ecab7"
      },
      "source": [
        "pd.DataFrame({'mean' : [x1_t1, x2_t1], 'Size': [n1_t1, n2_t1], 'Variance': [v1_t1, v2_t1]}, index=['Group 2A T1', 'Group 2B T1'])"
      ],
      "execution_count": null,
      "outputs": [
        {
          "output_type": "execute_result",
          "data": {
            "text/html": [
              "<div>\n",
              "<style scoped>\n",
              "    .dataframe tbody tr th:only-of-type {\n",
              "        vertical-align: middle;\n",
              "    }\n",
              "\n",
              "    .dataframe tbody tr th {\n",
              "        vertical-align: top;\n",
              "    }\n",
              "\n",
              "    .dataframe thead th {\n",
              "        text-align: right;\n",
              "    }\n",
              "</style>\n",
              "<table border=\"1\" class=\"dataframe\">\n",
              "  <thead>\n",
              "    <tr style=\"text-align: right;\">\n",
              "      <th></th>\n",
              "      <th>mean</th>\n",
              "      <th>Size</th>\n",
              "      <th>Variance</th>\n",
              "    </tr>\n",
              "  </thead>\n",
              "  <tbody>\n",
              "    <tr>\n",
              "      <th>Group 2A T1</th>\n",
              "      <td>164.839227</td>\n",
              "      <td>7711</td>\n",
              "      <td>8889.080351</td>\n",
              "    </tr>\n",
              "    <tr>\n",
              "      <th>Group 2B T1</th>\n",
              "      <td>165.766192</td>\n",
              "      <td>8107</td>\n",
              "      <td>9436.140469</td>\n",
              "    </tr>\n",
              "  </tbody>\n",
              "</table>\n",
              "</div>"
            ],
            "text/plain": [
              "                   mean  Size     Variance\n",
              "Group 2A T1  164.839227  7711  8889.080351\n",
              "Group 2B T1  165.766192  8107  9436.140469"
            ]
          },
          "metadata": {},
          "execution_count": 113
        }
      ]
    },
    {
      "cell_type": "markdown",
      "metadata": {
        "id": "1Bg8qd2qiHHp"
      },
      "source": [
        "#### G2 T2"
      ]
    },
    {
      "cell_type": "code",
      "metadata": {
        "id": "Zqm_UUw0iPHx"
      },
      "source": [
        "T2_2A = SHOP_2A[SHOP_2A.shop_voucher_name == 'TESTSV-8%-G2A-T2'].gmv_usd\n",
        "T2_2B = SHOP_2B[SHOP_2B.shop_voucher_name == 'TESTSV-10%-G2B-T2'].gmv_usd"
      ],
      "execution_count": null,
      "outputs": []
    },
    {
      "cell_type": "code",
      "metadata": {
        "id": "sud7bN2qi2T1"
      },
      "source": [
        "x1_t2 = T2_2A.mean()\n",
        "x2_t2 = T2_2B.mean()\n",
        "n1_t2 = len(T2_2A)\n",
        "n2_t2 = len(T2_2B)\n",
        "v1_t2 = T2_2A.var()\n",
        "v2_t2 = T2_2B.var()"
      ],
      "execution_count": null,
      "outputs": []
    },
    {
      "cell_type": "code",
      "metadata": {
        "id": "MFgw5sCsi_HE"
      },
      "source": [
        "z = (x1_t2 - x2_t2) / ((v1_t2/n1_t2) + (v2_t2/n2_t2))**(1/2)"
      ],
      "execution_count": null,
      "outputs": []
    },
    {
      "cell_type": "code",
      "metadata": {
        "colab": {
          "base_uri": "https://localhost:8080/"
        },
        "id": "Z_RzmvfdjEP7",
        "outputId": "b667191a-f4b4-4f7a-babd-6105b72bfd59"
      },
      "source": [
        "z"
      ],
      "execution_count": null,
      "outputs": [
        {
          "output_type": "execute_result",
          "data": {
            "text/plain": [
              "1.3711915013327345"
            ]
          },
          "metadata": {},
          "execution_count": 117
        }
      ]
    },
    {
      "cell_type": "code",
      "metadata": {
        "colab": {
          "base_uri": "https://localhost:8080/",
          "height": 130
        },
        "id": "-x4ORFn5jHo7",
        "outputId": "cc820b75-2a22-4ab0-ab64-aa5ffc636edb"
      },
      "source": [
        "pd.DataFrame({'mean' : [x1_t2, x2_t2], 'Size': [n1_t2, n2_t2], 'Variance': [v1_t2, v2_t2]}, index=['Group 2A T2', 'Group 2B T2'])"
      ],
      "execution_count": null,
      "outputs": [
        {
          "output_type": "execute_result",
          "data": {
            "text/html": [
              "<div>\n",
              "<style scoped>\n",
              "    .dataframe tbody tr th:only-of-type {\n",
              "        vertical-align: middle;\n",
              "    }\n",
              "\n",
              "    .dataframe tbody tr th {\n",
              "        vertical-align: top;\n",
              "    }\n",
              "\n",
              "    .dataframe thead th {\n",
              "        text-align: right;\n",
              "    }\n",
              "</style>\n",
              "<table border=\"1\" class=\"dataframe\">\n",
              "  <thead>\n",
              "    <tr style=\"text-align: right;\">\n",
              "      <th></th>\n",
              "      <th>mean</th>\n",
              "      <th>Size</th>\n",
              "      <th>Variance</th>\n",
              "    </tr>\n",
              "  </thead>\n",
              "  <tbody>\n",
              "    <tr>\n",
              "      <th>Group 2A T2</th>\n",
              "      <td>370.540104</td>\n",
              "      <td>1244</td>\n",
              "      <td>11503.506561</td>\n",
              "    </tr>\n",
              "    <tr>\n",
              "      <th>Group 2B T2</th>\n",
              "      <td>362.959806</td>\n",
              "      <td>1386</td>\n",
              "      <td>29541.801496</td>\n",
              "    </tr>\n",
              "  </tbody>\n",
              "</table>\n",
              "</div>"
            ],
            "text/plain": [
              "                   mean  Size      Variance\n",
              "Group 2A T2  370.540104  1244  11503.506561\n",
              "Group 2B T2  362.959806  1386  29541.801496"
            ]
          },
          "metadata": {},
          "execution_count": 118
        }
      ]
    },
    {
      "cell_type": "markdown",
      "metadata": {
        "id": "3Nay96EJjaM7"
      },
      "source": [
        "#### G2 T3"
      ]
    },
    {
      "cell_type": "code",
      "metadata": {
        "id": "rSpAzJDvjeqL"
      },
      "source": [
        "T3_2A = SHOP_2A[SHOP_2A.shop_voucher_name == 'TESTSV-10%-G2A-T3'].gmv_usd\n",
        "T3_2B = SHOP_2B[SHOP_2B.shop_voucher_name == 'TESTSV-12%-G2B-T3'].gmv_usd"
      ],
      "execution_count": null,
      "outputs": []
    },
    {
      "cell_type": "code",
      "metadata": {
        "id": "H4wdRIroj_dF"
      },
      "source": [
        "x1_t3 = T3_2A.mean()\n",
        "x2_t3 = T3_2B.mean()\n",
        "n1_t3 = len(T3_2A)\n",
        "n2_t3 = len(T3_2B)\n",
        "v1_t3 = T3_2A.var()\n",
        "v2_t3 = T3_2B.var()"
      ],
      "execution_count": null,
      "outputs": []
    },
    {
      "cell_type": "code",
      "metadata": {
        "id": "jOOM3xlLkXjC"
      },
      "source": [
        "z = (x1_t3 - x2_t3) / ((v1_t3/n1_t3) + (v2_t3/n2_t3))**(1/2)"
      ],
      "execution_count": null,
      "outputs": []
    },
    {
      "cell_type": "code",
      "metadata": {
        "colab": {
          "base_uri": "https://localhost:8080/"
        },
        "id": "zOLev9MWkYh9",
        "outputId": "379b14de-1483-4984-d151-c49bf266a3c9"
      },
      "source": [
        "z"
      ],
      "execution_count": null,
      "outputs": [
        {
          "output_type": "execute_result",
          "data": {
            "text/plain": [
              "1.0389816134650198"
            ]
          },
          "metadata": {},
          "execution_count": 122
        }
      ]
    },
    {
      "cell_type": "code",
      "metadata": {
        "colab": {
          "base_uri": "https://localhost:8080/",
          "height": 130
        },
        "id": "esEU8-W9kh-c",
        "outputId": "1ece37f4-4f87-4571-ccdb-19620080a86e"
      },
      "source": [
        "pd.DataFrame({'mean' : [x1_t3, x2_t3], 'Size': [n1_t3, n2_t3], 'Variance': [v1_t3, v2_t3]}, index=['Group 2A T3', 'Group 2B T3'])"
      ],
      "execution_count": null,
      "outputs": [
        {
          "output_type": "execute_result",
          "data": {
            "text/html": [
              "<div>\n",
              "<style scoped>\n",
              "    .dataframe tbody tr th:only-of-type {\n",
              "        vertical-align: middle;\n",
              "    }\n",
              "\n",
              "    .dataframe tbody tr th {\n",
              "        vertical-align: top;\n",
              "    }\n",
              "\n",
              "    .dataframe thead th {\n",
              "        text-align: right;\n",
              "    }\n",
              "</style>\n",
              "<table border=\"1\" class=\"dataframe\">\n",
              "  <thead>\n",
              "    <tr style=\"text-align: right;\">\n",
              "      <th></th>\n",
              "      <th>mean</th>\n",
              "      <th>Size</th>\n",
              "      <th>Variance</th>\n",
              "    </tr>\n",
              "  </thead>\n",
              "  <tbody>\n",
              "    <tr>\n",
              "      <th>Group 2A T3</th>\n",
              "      <td>776.013843</td>\n",
              "      <td>707</td>\n",
              "      <td>200629.951686</td>\n",
              "    </tr>\n",
              "    <tr>\n",
              "      <th>Group 2B T3</th>\n",
              "      <td>750.392232</td>\n",
              "      <td>805</td>\n",
              "      <td>261105.380400</td>\n",
              "    </tr>\n",
              "  </tbody>\n",
              "</table>\n",
              "</div>"
            ],
            "text/plain": [
              "                   mean  Size       Variance\n",
              "Group 2A T3  776.013843   707  200629.951686\n",
              "Group 2B T3  750.392232   805  261105.380400"
            ]
          },
          "metadata": {},
          "execution_count": 123
        }
      ]
    },
    {
      "cell_type": "markdown",
      "metadata": {
        "id": "Dx5jVE0n3QLU"
      },
      "source": [
        "### Group 3"
      ]
    },
    {
      "cell_type": "markdown",
      "metadata": {
        "id": "w7WEKE8UVUcB"
      },
      "source": [
        "Hypothesis Testing: \\\n",
        "**NULL:**\n",
        "$$\\mu_1 - \\mu_2 = 0$$\n",
        "**Alternatives:**\n",
        "$$ \\mu_2 \\neq \\mu_1 $$\n",
        "$$ \\mu_2 > \\mu_1$$\n",
        "$$ \\mu_2 < \\mu_1 $$"
      ]
    },
    {
      "cell_type": "markdown",
      "metadata": {
        "id": "6er9bJeBlK_E"
      },
      "source": [
        "#### Group "
      ]
    },
    {
      "cell_type": "code",
      "metadata": {
        "id": "Is7C9RJQVbwh"
      },
      "source": [
        "x1 = SHOP_3A.gmv_usd.mean()\n",
        "x2 = SHOP_3B.gmv_usd.mean()\n",
        "n1 = len(SHOP_3A.gmv_usd)\n",
        "n2 = len(SHOP_3B.gmv_usd)\n",
        "v1 = SHOP_3A.gmv_usd.var()\n",
        "v2 = SHOP_3B.gmv_usd.var()"
      ],
      "execution_count": null,
      "outputs": []
    },
    {
      "cell_type": "code",
      "metadata": {
        "id": "d7ZQPikc4nZH"
      },
      "source": [
        "z = (x1 - x2) / ((v1/n1) + (v2/n2))**(1/2)"
      ],
      "execution_count": null,
      "outputs": []
    },
    {
      "cell_type": "code",
      "metadata": {
        "colab": {
          "base_uri": "https://localhost:8080/"
        },
        "id": "-T-GSMwu4oyv",
        "outputId": "2dc22bb4-0b39-484d-ebfb-0a15c6ebdbdb"
      },
      "source": [
        "z"
      ],
      "execution_count": null,
      "outputs": [
        {
          "output_type": "execute_result",
          "data": {
            "text/plain": [
              "-0.5636681343259431"
            ]
          },
          "metadata": {},
          "execution_count": 126
        }
      ]
    },
    {
      "cell_type": "code",
      "metadata": {
        "colab": {
          "base_uri": "https://localhost:8080/",
          "height": 130
        },
        "id": "v4FoGXI6axe8",
        "outputId": "1b62df82-4fa2-4a42-8c22-d001ddba85aa"
      },
      "source": [
        "pd.DataFrame({'mean' : [x1, x2], 'Size': [n1, n2], 'Variance': [v1, v2]}, index=['Group 2A', 'Group 2B'])"
      ],
      "execution_count": null,
      "outputs": [
        {
          "output_type": "execute_result",
          "data": {
            "text/html": [
              "<div>\n",
              "<style scoped>\n",
              "    .dataframe tbody tr th:only-of-type {\n",
              "        vertical-align: middle;\n",
              "    }\n",
              "\n",
              "    .dataframe tbody tr th {\n",
              "        vertical-align: top;\n",
              "    }\n",
              "\n",
              "    .dataframe thead th {\n",
              "        text-align: right;\n",
              "    }\n",
              "</style>\n",
              "<table border=\"1\" class=\"dataframe\">\n",
              "  <thead>\n",
              "    <tr style=\"text-align: right;\">\n",
              "      <th></th>\n",
              "      <th>mean</th>\n",
              "      <th>Size</th>\n",
              "      <th>Variance</th>\n",
              "    </tr>\n",
              "  </thead>\n",
              "  <tbody>\n",
              "    <tr>\n",
              "      <th>Group 2A</th>\n",
              "      <td>483.183445</td>\n",
              "      <td>5526</td>\n",
              "      <td>262017.354966</td>\n",
              "    </tr>\n",
              "    <tr>\n",
              "      <th>Group 2B</th>\n",
              "      <td>489.018760</td>\n",
              "      <td>5372</td>\n",
              "      <td>321013.019851</td>\n",
              "    </tr>\n",
              "  </tbody>\n",
              "</table>\n",
              "</div>"
            ],
            "text/plain": [
              "                mean  Size       Variance\n",
              "Group 2A  483.183445  5526  262017.354966\n",
              "Group 2B  489.018760  5372  321013.019851"
            ]
          },
          "metadata": {},
          "execution_count": 127
        }
      ]
    },
    {
      "cell_type": "markdown",
      "metadata": {
        "id": "LN0ntKFYenmf"
      },
      "source": [
        "#### G3 T1"
      ]
    },
    {
      "cell_type": "code",
      "metadata": {
        "id": "pXKeqZCAci--"
      },
      "source": [
        "T1_3A = SHOP_3A[SHOP_3A.shop_voucher_name == 'TESTSV-12%-G3A-T1'].gmv_usd\n",
        "T1_3B = SHOP_3B[SHOP_3B.shop_voucher_name == 'TESTSV-15%-G3B-T1'].gmv_usd"
      ],
      "execution_count": null,
      "outputs": []
    },
    {
      "cell_type": "code",
      "metadata": {
        "id": "ImupQXYodCTp"
      },
      "source": [
        "x1_t1 = T1_3A.mean()\n",
        "x2_t1 = T1_3B.mean()\n",
        "n1_t1 = len(T1_3A)\n",
        "n2_t1 = len(T1_3B)\n",
        "v1_t1 = T1_3A.var()\n",
        "v2_t1 = T1_3B.var()"
      ],
      "execution_count": null,
      "outputs": []
    },
    {
      "cell_type": "code",
      "metadata": {
        "id": "W_6vzPCEd3TA"
      },
      "source": [
        "z = (x1_t1 - x2_t1) / ((v1_t1/n1_t1) + (v2_t1/n2_t1))**(1/2)"
      ],
      "execution_count": null,
      "outputs": []
    },
    {
      "cell_type": "code",
      "metadata": {
        "colab": {
          "base_uri": "https://localhost:8080/"
        },
        "id": "jCj29DqXeHAn",
        "outputId": "163e3263-1dbb-4d8c-a958-2ddf88a7b55a"
      },
      "source": [
        "z"
      ],
      "execution_count": null,
      "outputs": [
        {
          "output_type": "execute_result",
          "data": {
            "text/plain": [
              "0.9951298336725746"
            ]
          },
          "metadata": {},
          "execution_count": 131
        }
      ]
    },
    {
      "cell_type": "code",
      "metadata": {
        "colab": {
          "base_uri": "https://localhost:8080/",
          "height": 130
        },
        "id": "pEYG78VKdDhB",
        "outputId": "a6d1c057-ef3d-4aa8-ab4f-1678059046e6"
      },
      "source": [
        "pd.DataFrame({'mean' : [x1_t1, x2_t1], 'Size': [n1_t1, n2_t1], 'Variance': [v1_t1, v2_t1]}, index=['Group 3A T1', 'Group 3B T1'])"
      ],
      "execution_count": null,
      "outputs": [
        {
          "output_type": "execute_result",
          "data": {
            "text/html": [
              "<div>\n",
              "<style scoped>\n",
              "    .dataframe tbody tr th:only-of-type {\n",
              "        vertical-align: middle;\n",
              "    }\n",
              "\n",
              "    .dataframe tbody tr th {\n",
              "        vertical-align: top;\n",
              "    }\n",
              "\n",
              "    .dataframe thead th {\n",
              "        text-align: right;\n",
              "    }\n",
              "</style>\n",
              "<table border=\"1\" class=\"dataframe\">\n",
              "  <thead>\n",
              "    <tr style=\"text-align: right;\">\n",
              "      <th></th>\n",
              "      <th>mean</th>\n",
              "      <th>Size</th>\n",
              "      <th>Variance</th>\n",
              "    </tr>\n",
              "  </thead>\n",
              "  <tbody>\n",
              "    <tr>\n",
              "      <th>Group 3A T1</th>\n",
              "      <td>287.594631</td>\n",
              "      <td>1590</td>\n",
              "      <td>82329.588211</td>\n",
              "    </tr>\n",
              "    <tr>\n",
              "      <th>Group 3B T1</th>\n",
              "      <td>277.808391</td>\n",
              "      <td>1561</td>\n",
              "      <td>70136.633836</td>\n",
              "    </tr>\n",
              "  </tbody>\n",
              "</table>\n",
              "</div>"
            ],
            "text/plain": [
              "                   mean  Size      Variance\n",
              "Group 3A T1  287.594631  1590  82329.588211\n",
              "Group 3B T1  277.808391  1561  70136.633836"
            ]
          },
          "metadata": {},
          "execution_count": 132
        }
      ]
    },
    {
      "cell_type": "markdown",
      "metadata": {
        "id": "4oKdGHxdev94"
      },
      "source": [
        "#### G3 T2"
      ]
    },
    {
      "cell_type": "code",
      "metadata": {
        "id": "_oTLvBaRe1pV"
      },
      "source": [
        "T2_3A = SHOP_3A[SHOP_3A.shop_voucher_name == 'TESTSV-8%-G3A-T2'].gmv_usd\n",
        "T2_3B = SHOP_3B[SHOP_3B.shop_voucher_name == 'TESTSV-10%-G3B-T2'].gmv_usd"
      ],
      "execution_count": null,
      "outputs": []
    },
    {
      "cell_type": "code",
      "metadata": {
        "id": "zjtfpB_MfDrk"
      },
      "source": [
        "x1_t2 = T2_3A.mean()\n",
        "x2_t2 = T2_3B.mean()\n",
        "n1_t2 = len(T2_3A)\n",
        "n2_t2 = len(T2_3B)\n",
        "v1_t2 = T2_3A.var()\n",
        "v2_t2 = T2_3B.var()"
      ],
      "execution_count": null,
      "outputs": []
    },
    {
      "cell_type": "code",
      "metadata": {
        "id": "X2jssujtfNCL"
      },
      "source": [
        "z = (x1_t2 - x2_t2) / ((v1_t2/n1_t2) + (v2_t2/n2_t2))**(1/2)"
      ],
      "execution_count": null,
      "outputs": []
    },
    {
      "cell_type": "code",
      "metadata": {
        "colab": {
          "base_uri": "https://localhost:8080/"
        },
        "id": "gR1h9y6xfRqL",
        "outputId": "cff19524-63b5-4a49-958f-39b41fbcbf6e"
      },
      "source": [
        "z"
      ],
      "execution_count": null,
      "outputs": [
        {
          "output_type": "execute_result",
          "data": {
            "text/plain": [
              "4.081918179650946"
            ]
          },
          "metadata": {},
          "execution_count": 136
        }
      ]
    },
    {
      "cell_type": "code",
      "metadata": {
        "colab": {
          "base_uri": "https://localhost:8080/",
          "height": 130
        },
        "id": "_DjCcGeugLeF",
        "outputId": "cab10451-165d-4e1c-cc2b-4c881b319047"
      },
      "source": [
        "pd.DataFrame({'mean' : [x1_t2, x2_t2], 'Size': [n1_t2, n2_t2], 'Variance': [v1_t2, v2_t2]}, index=['Group 3A T2', 'Group 3B T2'])"
      ],
      "execution_count": null,
      "outputs": [
        {
          "output_type": "execute_result",
          "data": {
            "text/html": [
              "<div>\n",
              "<style scoped>\n",
              "    .dataframe tbody tr th:only-of-type {\n",
              "        vertical-align: middle;\n",
              "    }\n",
              "\n",
              "    .dataframe tbody tr th {\n",
              "        vertical-align: top;\n",
              "    }\n",
              "\n",
              "    .dataframe thead th {\n",
              "        text-align: right;\n",
              "    }\n",
              "</style>\n",
              "<table border=\"1\" class=\"dataframe\">\n",
              "  <thead>\n",
              "    <tr style=\"text-align: right;\">\n",
              "      <th></th>\n",
              "      <th>mean</th>\n",
              "      <th>Size</th>\n",
              "      <th>Variance</th>\n",
              "    </tr>\n",
              "  </thead>\n",
              "  <tbody>\n",
              "    <tr>\n",
              "      <th>Group 3A T2</th>\n",
              "      <td>498.120730</td>\n",
              "      <td>1168</td>\n",
              "      <td>62125.586246</td>\n",
              "    </tr>\n",
              "    <tr>\n",
              "      <th>Group 3B T2</th>\n",
              "      <td>463.290197</td>\n",
              "      <td>1154</td>\n",
              "      <td>22641.927128</td>\n",
              "    </tr>\n",
              "  </tbody>\n",
              "</table>\n",
              "</div>"
            ],
            "text/plain": [
              "                   mean  Size      Variance\n",
              "Group 3A T2  498.120730  1168  62125.586246\n",
              "Group 3B T2  463.290197  1154  22641.927128"
            ]
          },
          "metadata": {},
          "execution_count": 137
        }
      ]
    },
    {
      "cell_type": "markdown",
      "metadata": {
        "id": "QE2Bn7difTcA"
      },
      "source": [
        "#### G3 T3\n",
        "\n",
        "\n",
        "\n"
      ]
    },
    {
      "cell_type": "code",
      "metadata": {
        "id": "6eCWCs-LfWVR"
      },
      "source": [
        "T3_3A = SHOP_3A[SHOP_3A.shop_voucher_name == 'TESTSV-10%-G3A-T3'].gmv_usd\n",
        "T3_3B = SHOP_3B[SHOP_3B.shop_voucher_name == 'TESTSV-12%-G3B-T3'].gmv_usd"
      ],
      "execution_count": null,
      "outputs": []
    },
    {
      "cell_type": "code",
      "metadata": {
        "id": "LlQVa3eBfoCo"
      },
      "source": [
        "x1_t3 = T3_3A.mean()\n",
        "x2_t3 = T3_3B.mean()\n",
        "n1_t3 = len(T3_3A)\n",
        "n2_t3 = len(T3_3B)\n",
        "v1_t3 = T3_3A.var()\n",
        "v2_t3 = T3_3B.var()"
      ],
      "execution_count": null,
      "outputs": []
    },
    {
      "cell_type": "code",
      "metadata": {
        "id": "F_Sdv-rnfyW_"
      },
      "source": [
        "z = (x1_t3 - x2_t3) / ((v1_t3/n1_t3) + (v2_t3/n2_t3))**(1/2)"
      ],
      "execution_count": null,
      "outputs": []
    },
    {
      "cell_type": "code",
      "metadata": {
        "colab": {
          "base_uri": "https://localhost:8080/"
        },
        "id": "voo1A-q2f1_P",
        "outputId": "886ff93c-0f75-4d41-c41f-40a7944f9a23"
      },
      "source": [
        "z"
      ],
      "execution_count": null,
      "outputs": [
        {
          "output_type": "execute_result",
          "data": {
            "text/plain": [
              "-0.2643993340158543"
            ]
          },
          "metadata": {},
          "execution_count": 141
        }
      ]
    },
    {
      "cell_type": "code",
      "metadata": {
        "colab": {
          "base_uri": "https://localhost:8080/",
          "height": 130
        },
        "id": "-Yo7PQumf_x2",
        "outputId": "6e825f48-76d4-422e-b565-e09e1db91389"
      },
      "source": [
        "pd.DataFrame({'mean' : [x1_t3, x2_t3], 'Size': [n1_t3, n2_t3], 'Variance': [v1_t3, v2_t3]}, index=['Group 3A T3', 'Group 3B T3'])"
      ],
      "execution_count": null,
      "outputs": [
        {
          "output_type": "execute_result",
          "data": {
            "text/html": [
              "<div>\n",
              "<style scoped>\n",
              "    .dataframe tbody tr th:only-of-type {\n",
              "        vertical-align: middle;\n",
              "    }\n",
              "\n",
              "    .dataframe tbody tr th {\n",
              "        vertical-align: top;\n",
              "    }\n",
              "\n",
              "    .dataframe thead th {\n",
              "        text-align: right;\n",
              "    }\n",
              "</style>\n",
              "<table border=\"1\" class=\"dataframe\">\n",
              "  <thead>\n",
              "    <tr style=\"text-align: right;\">\n",
              "      <th></th>\n",
              "      <th>mean</th>\n",
              "      <th>Size</th>\n",
              "      <th>Variance</th>\n",
              "    </tr>\n",
              "  </thead>\n",
              "  <tbody>\n",
              "    <tr>\n",
              "      <th>Group 3A T3</th>\n",
              "      <td>1162.744304</td>\n",
              "      <td>872</td>\n",
              "      <td>512999.071042</td>\n",
              "    </tr>\n",
              "    <tr>\n",
              "      <th>Group 3B T3</th>\n",
              "      <td>1172.593150</td>\n",
              "      <td>936</td>\n",
              "      <td>748100.342629</td>\n",
              "    </tr>\n",
              "  </tbody>\n",
              "</table>\n",
              "</div>"
            ],
            "text/plain": [
              "                    mean  Size       Variance\n",
              "Group 3A T3  1162.744304   872  512999.071042\n",
              "Group 3B T3  1172.593150   936  748100.342629"
            ]
          },
          "metadata": {},
          "execution_count": 142
        }
      ]
    }
  ]
}